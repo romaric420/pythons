{
 "cells": [
  {
   "cell_type": "markdown",
   "id": "e95a1d65",
   "metadata": {},
   "source": [
    "Pandas est une bibliothèque Python utilisée pour travailler avec des ensembles de données.\n",
    "\n",
    "Il dispose de fonctions d’analyse, de nettoyage, d’exploration et de manipulation des données.\n",
    "\n",
    "Le nom « Pandas » fait référence à la fois à « Panel Data » et à « Python Data Analysis » et a été créé par Wes McKinney en 2008.\n"
   ]
  },
  {
   "cell_type": "code",
   "execution_count": 3,
   "id": "4fd6611f",
   "metadata": {},
   "outputs": [
    {
     "name": "stdout",
     "output_type": "stream",
     "text": [
      "    cars  passings\n",
      "0    BMW         3\n",
      "1  Volvo         7\n",
      "2   Ford         2\n"
     ]
    }
   ],
   "source": [
    "import pandas\n",
    "\n",
    "mydataset = {\n",
    "  'cars': [\"BMW\", \"Volvo\", \"Ford\"],\n",
    "  'passings': [3, 7, 2]\n",
    "}\n",
    "\n",
    "myvar = pandas.DataFrame(mydataset)\n",
    "\n",
    "print(myvar)"
   ]
  },
  {
   "cell_type": "code",
   "execution_count": 4,
   "id": "65685369",
   "metadata": {},
   "outputs": [
    {
     "name": "stdout",
     "output_type": "stream",
     "text": [
      "0    2\n",
      "1    5\n",
      "2    8\n",
      "3    9\n",
      "4    7\n",
      "dtype: int64\n"
     ]
    }
   ],
   "source": [
    "import pandas as pd\n",
    "\n",
    "a = [2,5,8,9,7]\n",
    "\n",
    "myvar = pd.Series(a)\n",
    "\n",
    "print(myvar)"
   ]
  },
  {
   "cell_type": "code",
   "execution_count": 6,
   "id": "c7908072",
   "metadata": {},
   "outputs": [
    {
     "name": "stdout",
     "output_type": "stream",
     "text": [
      "z    2\n",
      "y    5\n",
      "x    8\n",
      "dtype: int64\n"
     ]
    }
   ],
   "source": [
    "import pandas as pd\n",
    "a = [2,5,8]\n",
    "myvar = pd.Series(a,index=[\"z\",\"y\",\"x\"])\n",
    "\n",
    "print(myvar)"
   ]
  },
  {
   "cell_type": "code",
   "execution_count": 7,
   "id": "467f7b69",
   "metadata": {},
   "outputs": [
    {
     "name": "stdout",
     "output_type": "stream",
     "text": [
      "2\n"
     ]
    }
   ],
   "source": [
    "print(myvar[\"z\"])"
   ]
  },
  {
   "cell_type": "code",
   "execution_count": 8,
   "id": "b85d517a",
   "metadata": {},
   "outputs": [
    {
     "name": "stdout",
     "output_type": "stream",
     "text": [
      "day1    420\n",
      "day2    380\n",
      "day3    390\n",
      "dtype: int64\n"
     ]
    }
   ],
   "source": [
    "import pandas as pd\n",
    "\n",
    "calories = {\"day1\": 420, \"day2\": 380, \"day3\": 390}\n",
    "\n",
    "myvar = pd.Series(calories)\n",
    "\n",
    "print(myvar)"
   ]
  },
  {
   "cell_type": "code",
   "execution_count": 9,
   "id": "9106097e",
   "metadata": {},
   "outputs": [
    {
     "name": "stdout",
     "output_type": "stream",
     "text": [
      "day1    420\n",
      "day2    380\n",
      "dtype: int64\n"
     ]
    }
   ],
   "source": [
    "#Pour sélectionner uniquement certains éléments du dictionnaire,\n",
    "#utilisez l' index argument et spécifiez uniquement les éléments que vous souhaitez inclure dans la série.\n",
    "import pandas as pd\n",
    "\n",
    "calories = {\"day1\": 420, \"day2\": 380, \"day3\": 390}\n",
    "\n",
    "myvar = pd.Series(calories,index=[\"day1\",\"day2\"])\n",
    "\n",
    "print(myvar)"
   ]
  },
  {
   "cell_type": "code",
   "execution_count": 10,
   "id": "fe801589",
   "metadata": {},
   "outputs": [
    {
     "name": "stdout",
     "output_type": "stream",
     "text": [
      "   calories  duration\n",
      "0       420        50\n",
      "1       380        40\n",
      "2       390        45\n"
     ]
    }
   ],
   "source": [
    "import pandas as pd\n",
    "\n",
    "\n",
    "data = {\n",
    "  \"calories\": [420, 380, 390],\n",
    "  \"duration\": [50, 40, 45]\n",
    "}\n",
    "\n",
    "myvar = pd.DataFrame(data)\n",
    "\n",
    "print(myvar)"
   ]
  },
  {
   "cell_type": "code",
   "execution_count": 22,
   "id": "c91ad751",
   "metadata": {},
   "outputs": [
    {
     "name": "stdout",
     "output_type": "stream",
     "text": [
      "   calories  duration\n",
      "1       380        40\n",
      "2       390        45\n"
     ]
    }
   ],
   "source": [
    "#Un Pandas DataFrame est une structure de données à 2 dimensions, \n",
    "#comme un tableau à 2 dimensions ou un tableau avec des lignes et des colonnes.\n",
    "import pandas as pd\n",
    "data = {\n",
    "  \"calories\": [420, 380, 390],\n",
    "  \"duration\": [50, 40, 45]\n",
    "}\n",
    "\n",
    "df =pd.DataFrame(data)\n",
    "\n",
    "#print(df.loc[0])\n",
    "print(df.loc[1:2])"
   ]
  },
  {
   "cell_type": "code",
   "execution_count": 23,
   "id": "451e98b8",
   "metadata": {},
   "outputs": [
    {
     "name": "stdout",
     "output_type": "stream",
     "text": [
      "      calories  duration\n",
      "day1       420        50\n",
      "day2       380        40\n",
      "day3       390        45\n"
     ]
    }
   ],
   "source": [
    "#on peu egalement utiliser nos propre index\n",
    "\n",
    "import pandas as pd\n",
    "\n",
    "data = {\n",
    "  \"calories\": [420, 380, 390],\n",
    "  \"duration\": [50, 40, 45]\n",
    "}\n",
    "\n",
    "df = pd.DataFrame(data,index=[\"day1\",\"day2\",\"day3\"])\n",
    "\n",
    "print(df)"
   ]
  },
  {
   "cell_type": "code",
   "execution_count": 24,
   "id": "5c77a0e7",
   "metadata": {},
   "outputs": [
    {
     "name": "stdout",
     "output_type": "stream",
     "text": [
      "calories    420\n",
      "duration     50\n",
      "Name: day1, dtype: int64\n"
     ]
    }
   ],
   "source": [
    "print(df.loc[\"day1\"])"
   ]
  },
  {
   "cell_type": "markdown",
   "id": "78172e7a",
   "metadata": {},
   "source": [
    "### Si vos ensembles de données sont stockés dans un fichier, Pandas peut les charger dans un DataFrame.\n"
   ]
  },
  {
   "cell_type": "code",
   "execution_count": 29,
   "id": "bdbed8d4",
   "metadata": {},
   "outputs": [
    {
     "name": "stdout",
     "output_type": "stream",
     "text": [
      "      nom;prenom;age;date_naissance\n",
      "0     tchoffo;romaric;23;02/11/2000\n",
      "1       sambo;bernard;54;02/11/1954\n",
      "2   mboudjiho;monique;50;03/02/1960\n",
      "3      ngoumnai;pavel;26;02/10/1994\n",
      "4  djoumessi;wilfried;20;05/01/2004\n"
     ]
    }
   ],
   "source": [
    "import pandas as pd\n",
    "\n",
    "df = pd.read_csv('Classeur1.csv')\n",
    "\n",
    "print(df) "
   ]
  },
  {
   "cell_type": "code",
   "execution_count": 37,
   "id": "94e001ea",
   "metadata": {},
   "outputs": [
    {
     "name": "stdout",
     "output_type": "stream",
     "text": [
      "    Duration;Pulse;Maxpulse;Calories\n",
      "0                   60;110;130;409.1\n",
      "1                   60;117;145;479.0\n",
      "2                   60;103;135;340.0\n",
      "3                   45;109;175;282.4\n",
      "4                   45;117;148;406.0\n",
      "5                   60;102;127;300.0\n",
      "6                   60;110;136;374.0\n",
      "7                   45;104;134;253.3\n",
      "8                   30;109;133;195.1\n",
      "9                    60;98;124;269.0\n",
      "10                  60;103;147;329.3\n",
      "11                  60;100;120;250.7\n",
      "12                  60;106;128;345.3\n",
      "13                  60;104;132;379.3\n",
      "14                   60;98;123;275.0\n",
      "15                   60;98;120;215.2\n",
      "16                  60;100;120;300.0\n",
      "17                        45;90;112;\n",
      "18                  60;103;123;323.0\n",
      "19                   45;97;125;243.0\n",
      "20                  60;108;131;364.2\n",
      "21                  45;100;119;282.0\n",
      "22                  60;130;101;300.0\n",
      "23                  45;105;132;246.0\n",
      "24                  60;102;126;334.5\n",
      "25                  60;100;120;250.0\n",
      "26                   60;92;118;241.0\n",
      "27                       60;103;132;\n",
      "28                  60;100;132;280.0\n",
      "29                  60;102;129;380.3\n",
      "30                   60;92;115;243.0\n",
      "31                   45;90;112;180.1\n",
      "32                  60;101;124;299.0\n",
      "33                   60;93;113;223.0\n",
      "34                  60;107;136;361.0\n",
      "35                  60;114;140;415.0\n",
      "36                  60;102;127;300.0\n",
      "37                  60;100;120;300.0\n",
      "38                  60;100;120;300.0\n",
      "39                  45;104;129;266.0\n",
      "40                   45;90;112;180.1\n",
      "41                   60;98;126;286.0\n",
      "42                  60;100;122;329.4\n",
      "43                  60;111;138;400.0\n",
      "44                  60;111;131;397.0\n",
      "45                   60;99;119;273.0\n",
      "46                  60;109;153;387.6\n",
      "47                  45;111;136;300.0\n",
      "48                  45;108;129;298.0\n",
      "49                  60;111;139;397.6\n",
      "50                  60;107;136;380.2\n",
      "51                  80;123;146;643.1\n",
      "52                  60;106;130;263.0\n",
      "53                  60;118;151;486.0\n",
      "54                  30;136;175;238.0\n",
      "55                  60;121;146;450.7\n",
      "56                  60;118;121;413.0\n",
      "57                  45;115;144;305.0\n",
      "58                  20;153;172;226.4\n",
      "59                  45;123;152;321.0\n",
      "60                210;108;160;1376.0\n",
      "61                160;110;137;1034.4\n",
      "62                 160;109;135;853.0\n",
      "63                  45;118;141;341.0\n",
      "64                  20;110;130;131.4\n",
      "65                  180;90;130;800.4\n",
      "66                 150;105;135;873.4\n",
      "67                 150;107;130;816.0\n",
      "68                  20;106;136;110.4\n",
      "69                300;108;143;1500.2\n",
      "70                 150;97;129;1115.0\n",
      "71                  60;109;153;387.6\n",
      "72                  90;100;127;700.0\n",
      "73                  150;97;127;953.2\n",
      "74                  45;114;146;304.0\n",
      "75                   90;98;125;563.2\n",
      "76                  45;105;134;251.0\n",
      "77                  45;110;141;300.0\n",
      "78                 120;100;130;500.4\n",
      "79                270;100;131;1729.0\n",
      "80                  30;159;182;319.2\n",
      "81                  45;149;169;344.0\n",
      "82                  30;103;139;151.1\n",
      "83                 120;100;130;500.0\n",
      "84                  45;100;120;225.3\n",
      "85                  30;151;170;300.0\n",
      "86                  45;102;136;234.0\n",
      "87                120;100;157;1000.1\n",
      "88                  45;129;103;242.0\n",
      "89                    20;83;107;50.3\n",
      "90                 180;101;127;600.1\n",
      "91                       45;107;137;\n",
      "92                   30;90;107;105.3\n",
      "93                    15;80;100;50.5\n",
      "94                  20;150;171;127.4\n",
      "95                  20;151;168;229.4\n",
      "96                   30;95;128;128.2\n",
      "97                  25;152;168;244.2\n",
      "98                  30;109;131;188.2\n",
      "99                   90;93;124;604.1\n",
      "100                   20;95;112;77.7\n",
      "101                  90;90;110;500.0\n",
      "102                  90;90;100;500.0\n",
      "103                  90;90;100;500.4\n",
      "104                   30;92;108;92.7\n",
      "105                  30;93;128;124.0\n",
      "106                 180;90;120;800.3\n",
      "107                   30;90;120;86.2\n",
      "108                  90;90;120;500.3\n",
      "109               210;137;184;1860.4\n",
      "110                 60;102;124;325.2\n",
      "111                 45;107;124;275.0\n",
      "112                 15;124;139;124.2\n",
      "113                 45;100;120;225.3\n",
      "114                 60;108;131;367.6\n",
      "115                 60;108;151;351.7\n",
      "116                 60;116;141;443.0\n",
      "117                  60;97;122;277.4\n",
      "118                      60;105;125;\n",
      "119                 60;103;124;332.7\n",
      "120                 30;112;137;193.9\n",
      "121                 45;100;120;100.7\n",
      "122                 60;119;169;336.7\n",
      "123                 60;107;127;344.9\n",
      "124                 60;111;151;368.5\n",
      "125                  60;98;122;271.0\n",
      "126                  60;97;124;275.3\n",
      "127                 60;109;127;382.0\n",
      "128                  90;99;125;466.4\n",
      "129                 60;114;151;384.0\n",
      "130                 60;104;134;342.5\n",
      "131                 60;107;138;357.5\n",
      "132                 60;103;133;335.0\n",
      "133                 60;106;132;327.5\n",
      "134                 60;103;136;339.0\n",
      "135                 20;136;156;189.0\n",
      "136                 45;117;143;317.7\n",
      "137                 45;115;137;318.0\n",
      "138                 45;113;138;308.0\n",
      "139                 20;141;162;222.4\n",
      "140                 60;108;135;390.0\n",
      "141                       60;97;127;\n",
      "142                 45;100;120;250.4\n",
      "143                 45;122;149;335.4\n",
      "144                 60;136;170;470.2\n",
      "145                 45;106;126;270.8\n",
      "146                 60;107;136;400.0\n",
      "147                 60;112;146;361.9\n",
      "148                 30;103;127;185.0\n",
      "149                 60;110;150;409.4\n",
      "150                 60;106;134;343.0\n",
      "151                 60;109;129;353.2\n",
      "152                 60;109;138;374.0\n",
      "153                 30;150;167;275.8\n",
      "154                 60;105;128;328.0\n",
      "155                 60;111;151;368.5\n",
      "156                  60;97;131;270.4\n",
      "157                 60;100;120;270.4\n",
      "158                 60;114;150;382.8\n",
      "159                  30;80;120;240.9\n",
      "160                  30;85;120;250.4\n",
      "161                  45;90;130;260.4\n",
      "162                  45;95;130;270.0\n",
      "163                 45;100;140;280.9\n",
      "164                 60;105;140;290.8\n",
      "165                 60;110;145;300.0\n",
      "166                 60;115;145;310.2\n",
      "167                 75;120;150;320.4\n",
      "168                 75;125;150;330.4\n"
     ]
    }
   ],
   "source": [
    "#utilisez to_string()pour imprimer l’intégralité du DataFrame.\n",
    "import pandas as pd\n",
    "\n",
    "df = pd.read_csv('data.csv')\n",
    "\n",
    "print(df.to_string())"
   ]
  },
  {
   "cell_type": "code",
   "execution_count": 38,
   "id": "cafbecf4",
   "metadata": {},
   "outputs": [
    {
     "name": "stdout",
     "output_type": "stream",
     "text": [
      "60\n"
     ]
    }
   ],
   "source": [
    "#Le nombre de lignes renvoyées est défini dans les paramètres des options Pandas.\n",
    "#Vous pouvez vérifier le nombre maximum de lignes de votre système avec l' pd.options.display.max_rows instruction.\n",
    "myvar = pd.options.display.max_rows\n",
    "print(myvar)"
   ]
  },
  {
   "cell_type": "code",
   "execution_count": 52,
   "id": "6c72af34",
   "metadata": {},
   "outputs": [
    {
     "name": "stdout",
     "output_type": "stream",
     "text": [
      "     Duration  Pulse  Maxpulse  Calories\n",
      "0          60    110       130     409.1\n",
      "1          60    117       145     479.0\n",
      "2          60    103       135     340.0\n",
      "3          45    109       175     282.4\n",
      "4          45    117       148     406.0\n",
      "5          60    102       127     300.0\n",
      "6          60    110       136     374.0\n",
      "7          45    104       134     253.3\n",
      "8          30    109       133     195.1\n",
      "9          60     98       124     269.0\n",
      "10         60    103       147     329.3\n",
      "11         60    100       120     250.7\n",
      "12         60    106       128     345.3\n",
      "13         60    104       132     379.3\n",
      "14         60     98       123     275.0\n",
      "15         60     98       120     215.2\n",
      "16         60    100       120     300.0\n",
      "17         45     90       112       NaN\n",
      "18         60    103       123     323.0\n",
      "19         45     97       125     243.0\n",
      "20         60    108       131     364.2\n",
      "21         45    100       119     282.0\n",
      "22         60    130       101     300.0\n",
      "23         45    105       132     246.0\n",
      "24         60    102       126     334.5\n",
      "25         60    100       120     250.0\n",
      "26         60     92       118     241.0\n",
      "27         60    103       132       NaN\n",
      "28         60    100       132     280.0\n",
      "29         60    102       129     380.3\n",
      "30         60     92       115     243.0\n",
      "31         45     90       112     180.1\n",
      "32         60    101       124     299.0\n",
      "33         60     93       113     223.0\n",
      "34         60    107       136     361.0\n",
      "35         60    114       140     415.0\n",
      "36         60    102       127     300.0\n",
      "37         60    100       120     300.0\n",
      "38         60    100       120     300.0\n",
      "39         45    104       129     266.0\n",
      "40         45     90       112     180.1\n",
      "41         60     98       126     286.0\n",
      "42         60    100       122     329.4\n",
      "43         60    111       138     400.0\n",
      "44         60    111       131     397.0\n",
      "45         60     99       119     273.0\n",
      "46         60    109       153     387.6\n",
      "47         45    111       136     300.0\n",
      "48         45    108       129     298.0\n",
      "49         60    111       139     397.6\n",
      "50         60    107       136     380.2\n",
      "51         80    123       146     643.1\n",
      "52         60    106       130     263.0\n",
      "53         60    118       151     486.0\n",
      "54         30    136       175     238.0\n",
      "55         60    121       146     450.7\n",
      "56         60    118       121     413.0\n",
      "57         45    115       144     305.0\n",
      "58         20    153       172     226.4\n",
      "59         45    123       152     321.0\n",
      "60        210    108       160    1376.0\n",
      "61        160    110       137    1034.4\n",
      "62        160    109       135     853.0\n",
      "63         45    118       141     341.0\n",
      "64         20    110       130     131.4\n",
      "65        180     90       130     800.4\n",
      "66        150    105       135     873.4\n",
      "67        150    107       130     816.0\n",
      "68         20    106       136     110.4\n",
      "69        300    108       143    1500.2\n",
      "70        150     97       129    1115.0\n",
      "71         60    109       153     387.6\n",
      "72         90    100       127     700.0\n",
      "73        150     97       127     953.2\n",
      "74         45    114       146     304.0\n",
      "75         90     98       125     563.2\n",
      "76         45    105       134     251.0\n",
      "77         45    110       141     300.0\n",
      "78        120    100       130     500.4\n",
      "79        270    100       131    1729.0\n",
      "80         30    159       182     319.2\n",
      "81         45    149       169     344.0\n",
      "82         30    103       139     151.1\n",
      "83        120    100       130     500.0\n",
      "84         45    100       120     225.3\n",
      "85         30    151       170     300.0\n",
      "86         45    102       136     234.0\n",
      "87        120    100       157    1000.1\n",
      "88         45    129       103     242.0\n",
      "89         20     83       107      50.3\n",
      "90        180    101       127     600.1\n",
      "91         45    107       137       NaN\n",
      "92         30     90       107     105.3\n",
      "93         15     80       100      50.5\n",
      "94         20    150       171     127.4\n",
      "95         20    151       168     229.4\n",
      "96         30     95       128     128.2\n",
      "97         25    152       168     244.2\n",
      "98         30    109       131     188.2\n",
      "99         90     93       124     604.1\n",
      "100        20     95       112      77.7\n",
      "101        90     90       110     500.0\n",
      "102        90     90       100     500.0\n",
      "103        90     90       100     500.4\n",
      "104        30     92       108      92.7\n",
      "105        30     93       128     124.0\n",
      "106       180     90       120     800.3\n",
      "107        30     90       120      86.2\n",
      "108        90     90       120     500.3\n",
      "109       210    137       184    1860.4\n",
      "110        60    102       124     325.2\n",
      "111        45    107       124     275.0\n",
      "112        15    124       139     124.2\n",
      "113        45    100       120     225.3\n",
      "114        60    108       131     367.6\n",
      "115        60    108       151     351.7\n",
      "116        60    116       141     443.0\n",
      "117        60     97       122     277.4\n",
      "118        60    105       125       NaN\n",
      "119        60    103       124     332.7\n",
      "120        30    112       137     193.9\n",
      "121        45    100       120     100.7\n",
      "122        60    119       169     336.7\n",
      "123        60    107       127     344.9\n",
      "124        60    111       151     368.5\n",
      "125        60     98       122     271.0\n",
      "126        60     97       124     275.3\n",
      "127        60    109       127     382.0\n",
      "128        90     99       125     466.4\n",
      "129        60    114       151     384.0\n",
      "130        60    104       134     342.5\n",
      "131        60    107       138     357.5\n",
      "132        60    103       133     335.0\n",
      "133        60    106       132     327.5\n",
      "134        60    103       136     339.0\n",
      "135        20    136       156     189.0\n",
      "136        45    117       143     317.7\n",
      "137        45    115       137     318.0\n",
      "138        45    113       138     308.0\n",
      "139        20    141       162     222.4\n",
      "140        60    108       135     390.0\n",
      "141        60     97       127       NaN\n",
      "142        45    100       120     250.4\n",
      "143        45    122       149     335.4\n",
      "144        60    136       170     470.2\n",
      "145        45    106       126     270.8\n",
      "146        60    107       136     400.0\n",
      "147        60    112       146     361.9\n",
      "148        30    103       127     185.0\n",
      "149        60    110       150     409.4\n",
      "150        60    106       134     343.0\n",
      "151        60    109       129     353.2\n",
      "152        60    109       138     374.0\n",
      "153        30    150       167     275.8\n",
      "154        60    105       128     328.0\n",
      "155        60    111       151     368.5\n",
      "156        60     97       131     270.4\n",
      "157        60    100       120     270.4\n",
      "158        60    114       150     382.8\n",
      "159        30     80       120     240.9\n",
      "160        30     85       120     250.4\n",
      "161        45     90       130     260.4\n",
      "162        45     95       130     270.0\n",
      "163        45    100       140     280.9\n",
      "164        60    105       140     290.8\n",
      "165        60    110       145     300.0\n",
      "166        60    115       145     310.2\n",
      "167        75    120       150     320.4\n",
      "168        75    125       150     330.4\n"
     ]
    }
   ],
   "source": [
    "#Dans mon système, le nombre est 60, ce qui signifie que si le DataFrame contient plus de 60 lignes, \n",
    "#l' print(df)instruction ne renverra que les en-têtes ainsi que les 5 première et dernière lignes.\n",
    "#Vous pouvez modifier le nombre maximum de lignes avec la même instruction.\n",
    "\n",
    "import pandas as pd\n",
    "    \n",
    "pd.options.display.max_rows = 999\n",
    "\n",
    "df = pd.read_csv('data.csv')\n",
    "\n",
    "print(df)"
   ]
  },
  {
   "cell_type": "markdown",
   "id": "77a568de",
   "metadata": {},
   "source": [
    "Lire JSON\n",
    "Les ensembles de données volumineuses sont souvent stockés ou extraits au format JSON.\n",
    "\n",
    "JSON est du texte brut, mais a le format d'un objet et est bien connu dans le monde de la programmation, y compris Pandas.\n",
    "\n",
    "Dans nos exemples, nous utiliserons un fichier JSON appelé « data.json »."
   ]
  },
  {
   "cell_type": "code",
   "execution_count": 42,
   "id": "375d32ca",
   "metadata": {},
   "outputs": [
    {
     "name": "stdout",
     "output_type": "stream",
     "text": [
      "                                     name version  private dependencies              scripts                 eslintConfig                                                            browserslist\n",
      "@testing-library/jest-dom    archivex-app   0.1.0     True      ^5.16.5                  NaN                          NaN                                                                     NaN\n",
      "@testing-library/react       archivex-app   0.1.0     True      ^13.4.0                  NaN                          NaN                                                                     NaN\n",
      "@testing-library/user-event  archivex-app   0.1.0     True      ^13.5.0                  NaN                          NaN                                                                     NaN\n",
      "react                        archivex-app   0.1.0     True      ^18.2.0                  NaN                          NaN                                                                     NaN\n",
      "react-dom                    archivex-app   0.1.0     True      ^18.2.0                  NaN                          NaN                                                                     NaN\n",
      "react-scripts                archivex-app   0.1.0     True        5.0.1                  NaN                          NaN                                                                     NaN\n",
      "web-vitals                   archivex-app   0.1.0     True       ^2.1.4                  NaN                          NaN                                                                     NaN\n",
      "start                        archivex-app   0.1.0     True          NaN  react-scripts start                          NaN                                                                     NaN\n",
      "build                        archivex-app   0.1.0     True          NaN  react-scripts build                          NaN                                                                     NaN\n",
      "test                         archivex-app   0.1.0     True          NaN   react-scripts test                          NaN                                                                     NaN\n",
      "eject                        archivex-app   0.1.0     True          NaN  react-scripts eject                          NaN                                                                     NaN\n",
      "extends                      archivex-app   0.1.0     True          NaN                  NaN  [react-app, react-app/jest]                                                                     NaN\n",
      "production                   archivex-app   0.1.0     True          NaN                  NaN                          NaN                                      [>0.2%, not dead, not op_mini all]\n",
      "development                  archivex-app   0.1.0     True          NaN                  NaN                          NaN  [last 1 chrome version, last 1 firefox version, last 1 safari version]\n"
     ]
    }
   ],
   "source": [
    "import pandas as pd\n",
    "\n",
    "pd.options.display.max_rows = 999\n",
    "\n",
    "df = pd.read_json(\"data.json\")\n",
    "\n",
    "print(df.to_string())"
   ]
  },
  {
   "cell_type": "markdown",
   "id": "515339a6",
   "metadata": {},
   "source": [
    "JSON = Dictionnaire Python\n",
    "Les objets JSON ont le même format que les dictionnaires Python.\n",
    "Si votre code JSON n'est pas dans un fichier, mais dans un Dictionnaire Python, vous pouvez le charger directement dans un DataFrame "
   ]
  },
  {
   "cell_type": "code",
   "execution_count": 48,
   "id": "181f053c",
   "metadata": {},
   "outputs": [
    {
     "name": "stdout",
     "output_type": "stream",
     "text": [
      "   Duration  Pulse  Maxpulse  Calories\n",
      "0        60    110       130       409\n",
      "1        60    117       145       479\n",
      "2        60    103       135       340\n",
      "3        45    109       175       282\n",
      "4        45    117       148       406\n",
      "5        60    102       127       300\n"
     ]
    }
   ],
   "source": [
    "import pandas as pd\n",
    "\n",
    "DATA={\n",
    "  \"Duration\":{\n",
    "    \"0\":60,\n",
    "    \"1\":60,\n",
    "    \"2\":60,\n",
    "    \"3\":45,\n",
    "    \"4\":45,\n",
    "    \"5\":60\n",
    "  },\n",
    "  \"Pulse\":{\n",
    "    \"0\":110,\n",
    "    \"1\":117,\n",
    "    \"2\":103,\n",
    "    \"3\":109,\n",
    "    \"4\":117,\n",
    "    \"5\":102\n",
    "  },\n",
    "  \"Maxpulse\":{\n",
    "    \"0\":130,\n",
    "    \"1\":145,\n",
    "    \"2\":135,\n",
    "    \"3\":175,\n",
    "    \"4\":148,\n",
    "    \"5\":127\n",
    "  },\n",
    "  \"Calories\":{\n",
    "    \"0\":409,\n",
    "    \"1\":479,\n",
    "    \"2\":340,\n",
    "    \"3\":282,\n",
    "    \"4\":406,\n",
    "    \"5\":300\n",
    "  }\n",
    "}\n",
    "\n",
    "df = pd.DataFrame(DATA)\n",
    "\n",
    "print(df)"
   ]
  },
  {
   "cell_type": "code",
   "execution_count": 51,
   "id": "8a26fe71",
   "metadata": {},
   "outputs": [
    {
     "name": "stdout",
     "output_type": "stream",
     "text": [
      "   Duration  Pulse  Maxpulse  Calories\n",
      "0        60    110       130     409.1\n",
      "1        60    117       145     479.0\n",
      "2        60    103       135     340.0\n",
      "3        45    109       175     282.4\n",
      "4        45    117       148     406.0\n",
      "5        60    102       127     300.0\n",
      "6        60    110       136     374.0\n",
      "7        45    104       134     253.3\n",
      "8        30    109       133     195.1\n",
      "9        60     98       124     269.0\n"
     ]
    }
   ],
   "source": [
    "#Affichage des données\n",
    "#L'une des méthodes les plus utilisées pour obtenir un aperçu rapide du DataFrame est la head()méthode .\n",
    "#La head()méthode renvoie les en-têtes et un nombre spécifié de lignes, en commençant par le haut.\n",
    "\n",
    "import pandas as pd\n",
    "\n",
    "df = pd.read_csv(\"data.csv\")\n",
    "\n",
    "print(df.head(10))"
   ]
  },
  {
   "cell_type": "code",
   "execution_count": 53,
   "id": "7394260c",
   "metadata": {},
   "outputs": [
    {
     "name": "stdout",
     "output_type": "stream",
     "text": [
      "     Duration  Pulse  Maxpulse  Calories\n",
      "164        60    105       140     290.8\n",
      "165        60    110       145     300.0\n",
      "166        60    115       145     310.2\n",
      "167        75    120       150     320.4\n",
      "168        75    125       150     330.4\n"
     ]
    }
   ],
   "source": [
    "#il existe aussi un tail() pour affichier les derniers lignes du dataframe\n",
    "import pandas as pd\n",
    "df = pd.read_csv('data.csv')\n",
    "print(df.tail(5))"
   ]
  },
  {
   "cell_type": "code",
   "execution_count": 54,
   "id": "5cbada11",
   "metadata": {},
   "outputs": [
    {
     "name": "stdout",
     "output_type": "stream",
     "text": [
      "<class 'pandas.core.frame.DataFrame'>\n",
      "RangeIndex: 169 entries, 0 to 168\n",
      "Data columns (total 4 columns):\n",
      " #   Column    Non-Null Count  Dtype  \n",
      "---  ------    --------------  -----  \n",
      " 0   Duration  169 non-null    int64  \n",
      " 1   Pulse     169 non-null    int64  \n",
      " 2   Maxpulse  169 non-null    int64  \n",
      " 3   Calories  164 non-null    float64\n",
      "dtypes: float64(1), int64(3)\n",
      "memory usage: 5.4 KB\n",
      "None\n"
     ]
    }
   ],
   "source": [
    "#L'objet DataFrames possède une méthode appelée info(), qui vous donne plus d'informations sur l'ensemble de données.\n",
    "print(df.info())"
   ]
  },
  {
   "cell_type": "markdown",
   "id": "c07534fa",
   "metadata": {},
   "source": [
    "Nettoyage des données\n",
    "Le nettoyage des données signifie corriger les mauvaises données dans votre ensemble de données.\n",
    "\n",
    "Les mauvaises données peuvent être :\n",
    "\n",
    "Cellules vides\n",
    "Données dans un mauvais format\n",
    "Données erronées\n",
    "Doublons\n",
    "Dans ce didacticiel, vous apprendrez à les gérer tous."
   ]
  },
  {
   "cell_type": "markdown",
   "id": "9b5b5f92",
   "metadata": {},
   "source": [
    "# nettoyage des cellules vides"
   ]
  },
  {
   "cell_type": "code",
   "execution_count": 55,
   "id": "dae96414",
   "metadata": {},
   "outputs": [
    {
     "name": "stdout",
     "output_type": "stream",
     "text": [
      "     Duration  Pulse  Maxpulse  Calories\n",
      "0          60    110       130     409.1\n",
      "1          60    117       145     479.0\n",
      "2          60    103       135     340.0\n",
      "3          45    109       175     282.4\n",
      "4          45    117       148     406.0\n",
      "5          60    102       127     300.0\n",
      "6          60    110       136     374.0\n",
      "7          45    104       134     253.3\n",
      "8          30    109       133     195.1\n",
      "9          60     98       124     269.0\n",
      "10         60    103       147     329.3\n",
      "11         60    100       120     250.7\n",
      "12         60    106       128     345.3\n",
      "13         60    104       132     379.3\n",
      "14         60     98       123     275.0\n",
      "15         60     98       120     215.2\n",
      "16         60    100       120     300.0\n",
      "18         60    103       123     323.0\n",
      "19         45     97       125     243.0\n",
      "20         60    108       131     364.2\n",
      "21         45    100       119     282.0\n",
      "22         60    130       101     300.0\n",
      "23         45    105       132     246.0\n",
      "24         60    102       126     334.5\n",
      "25         60    100       120     250.0\n",
      "26         60     92       118     241.0\n",
      "28         60    100       132     280.0\n",
      "29         60    102       129     380.3\n",
      "30         60     92       115     243.0\n",
      "31         45     90       112     180.1\n",
      "32         60    101       124     299.0\n",
      "33         60     93       113     223.0\n",
      "34         60    107       136     361.0\n",
      "35         60    114       140     415.0\n",
      "36         60    102       127     300.0\n",
      "37         60    100       120     300.0\n",
      "38         60    100       120     300.0\n",
      "39         45    104       129     266.0\n",
      "40         45     90       112     180.1\n",
      "41         60     98       126     286.0\n",
      "42         60    100       122     329.4\n",
      "43         60    111       138     400.0\n",
      "44         60    111       131     397.0\n",
      "45         60     99       119     273.0\n",
      "46         60    109       153     387.6\n",
      "47         45    111       136     300.0\n",
      "48         45    108       129     298.0\n",
      "49         60    111       139     397.6\n",
      "50         60    107       136     380.2\n",
      "51         80    123       146     643.1\n",
      "52         60    106       130     263.0\n",
      "53         60    118       151     486.0\n",
      "54         30    136       175     238.0\n",
      "55         60    121       146     450.7\n",
      "56         60    118       121     413.0\n",
      "57         45    115       144     305.0\n",
      "58         20    153       172     226.4\n",
      "59         45    123       152     321.0\n",
      "60        210    108       160    1376.0\n",
      "61        160    110       137    1034.4\n",
      "62        160    109       135     853.0\n",
      "63         45    118       141     341.0\n",
      "64         20    110       130     131.4\n",
      "65        180     90       130     800.4\n",
      "66        150    105       135     873.4\n",
      "67        150    107       130     816.0\n",
      "68         20    106       136     110.4\n",
      "69        300    108       143    1500.2\n",
      "70        150     97       129    1115.0\n",
      "71         60    109       153     387.6\n",
      "72         90    100       127     700.0\n",
      "73        150     97       127     953.2\n",
      "74         45    114       146     304.0\n",
      "75         90     98       125     563.2\n",
      "76         45    105       134     251.0\n",
      "77         45    110       141     300.0\n",
      "78        120    100       130     500.4\n",
      "79        270    100       131    1729.0\n",
      "80         30    159       182     319.2\n",
      "81         45    149       169     344.0\n",
      "82         30    103       139     151.1\n",
      "83        120    100       130     500.0\n",
      "84         45    100       120     225.3\n",
      "85         30    151       170     300.0\n",
      "86         45    102       136     234.0\n",
      "87        120    100       157    1000.1\n",
      "88         45    129       103     242.0\n",
      "89         20     83       107      50.3\n",
      "90        180    101       127     600.1\n",
      "92         30     90       107     105.3\n",
      "93         15     80       100      50.5\n",
      "94         20    150       171     127.4\n",
      "95         20    151       168     229.4\n",
      "96         30     95       128     128.2\n",
      "97         25    152       168     244.2\n",
      "98         30    109       131     188.2\n",
      "99         90     93       124     604.1\n",
      "100        20     95       112      77.7\n",
      "101        90     90       110     500.0\n",
      "102        90     90       100     500.0\n",
      "103        90     90       100     500.4\n",
      "104        30     92       108      92.7\n",
      "105        30     93       128     124.0\n",
      "106       180     90       120     800.3\n",
      "107        30     90       120      86.2\n",
      "108        90     90       120     500.3\n",
      "109       210    137       184    1860.4\n",
      "110        60    102       124     325.2\n",
      "111        45    107       124     275.0\n",
      "112        15    124       139     124.2\n",
      "113        45    100       120     225.3\n",
      "114        60    108       131     367.6\n",
      "115        60    108       151     351.7\n",
      "116        60    116       141     443.0\n",
      "117        60     97       122     277.4\n",
      "119        60    103       124     332.7\n",
      "120        30    112       137     193.9\n",
      "121        45    100       120     100.7\n",
      "122        60    119       169     336.7\n",
      "123        60    107       127     344.9\n",
      "124        60    111       151     368.5\n",
      "125        60     98       122     271.0\n",
      "126        60     97       124     275.3\n",
      "127        60    109       127     382.0\n",
      "128        90     99       125     466.4\n",
      "129        60    114       151     384.0\n",
      "130        60    104       134     342.5\n",
      "131        60    107       138     357.5\n",
      "132        60    103       133     335.0\n",
      "133        60    106       132     327.5\n",
      "134        60    103       136     339.0\n",
      "135        20    136       156     189.0\n",
      "136        45    117       143     317.7\n",
      "137        45    115       137     318.0\n",
      "138        45    113       138     308.0\n",
      "139        20    141       162     222.4\n",
      "140        60    108       135     390.0\n",
      "142        45    100       120     250.4\n",
      "143        45    122       149     335.4\n",
      "144        60    136       170     470.2\n",
      "145        45    106       126     270.8\n",
      "146        60    107       136     400.0\n",
      "147        60    112       146     361.9\n",
      "148        30    103       127     185.0\n",
      "149        60    110       150     409.4\n",
      "150        60    106       134     343.0\n",
      "151        60    109       129     353.2\n",
      "152        60    109       138     374.0\n",
      "153        30    150       167     275.8\n",
      "154        60    105       128     328.0\n",
      "155        60    111       151     368.5\n",
      "156        60     97       131     270.4\n",
      "157        60    100       120     270.4\n",
      "158        60    114       150     382.8\n",
      "159        30     80       120     240.9\n",
      "160        30     85       120     250.4\n",
      "161        45     90       130     260.4\n",
      "162        45     95       130     270.0\n",
      "163        45    100       140     280.9\n",
      "164        60    105       140     290.8\n",
      "165        60    110       145     300.0\n",
      "166        60    115       145     310.2\n",
      "167        75    120       150     320.4\n",
      "168        75    125       150     330.4\n"
     ]
    }
   ],
   "source": [
    "#pour le nettoyage des cellule vide on utilisera dropna()\n",
    "\n",
    "import pandas as pd\n",
    "\n",
    "df = pd.read_csv('data.csv')\n",
    "\n",
    "new = df.dropna()\n",
    "\n",
    "print(new.to_string())\n",
    "#Par défaut, la dropna()méthode renvoie un nouveau DataFrame et ne modifiera pas l'original.\n",
    "#Si vous souhaitez modifier le DataFrame d'origine, utilisez l' inplace = Trueargument \n",
    "#df.dropna(inplace = True)"
   ]
  },
  {
   "cell_type": "code",
   "execution_count": 57,
   "id": "3ec9b1f0",
   "metadata": {},
   "outputs": [],
   "source": [
    "#Une autre façon de gérer les cellules vides consiste à insérer une nouvelle valeur à la place.\n",
    "#De cette façon, vous n'êtes pas obligé de supprimer des lignes entières simplement à cause de certaines cellules vides.\n",
    "#La fillna()méthode nous permet de remplacer les cellules vides par une valeur :\n",
    "import pandas as pd\n",
    "\n",
    "df = pd.read_csv('data.csv')\n",
    "df.fillna(130, inplace = True)"
   ]
  },
  {
   "cell_type": "code",
   "execution_count": 58,
   "id": "1a31a8e4",
   "metadata": {},
   "outputs": [
    {
     "ename": "KeyError",
     "evalue": "'calories'",
     "output_type": "error",
     "traceback": [
      "\u001b[1;31m---------------------------------------------------------------------------\u001b[0m",
      "\u001b[1;31mKeyError\u001b[0m                                  Traceback (most recent call last)",
      "File \u001b[1;32m~\\anaconda3\\envs\\test1\\Lib\\site-packages\\pandas\\core\\indexes\\base.py:3790\u001b[0m, in \u001b[0;36mIndex.get_loc\u001b[1;34m(self, key)\u001b[0m\n\u001b[0;32m   3789\u001b[0m \u001b[38;5;28;01mtry\u001b[39;00m:\n\u001b[1;32m-> 3790\u001b[0m     \u001b[38;5;28;01mreturn\u001b[39;00m \u001b[38;5;28mself\u001b[39m\u001b[38;5;241m.\u001b[39m_engine\u001b[38;5;241m.\u001b[39mget_loc(casted_key)\n\u001b[0;32m   3791\u001b[0m \u001b[38;5;28;01mexcept\u001b[39;00m \u001b[38;5;167;01mKeyError\u001b[39;00m \u001b[38;5;28;01mas\u001b[39;00m err:\n",
      "File \u001b[1;32mindex.pyx:152\u001b[0m, in \u001b[0;36mpandas._libs.index.IndexEngine.get_loc\u001b[1;34m()\u001b[0m\n",
      "File \u001b[1;32mindex.pyx:181\u001b[0m, in \u001b[0;36mpandas._libs.index.IndexEngine.get_loc\u001b[1;34m()\u001b[0m\n",
      "File \u001b[1;32mpandas\\_libs\\hashtable_class_helper.pxi:7080\u001b[0m, in \u001b[0;36mpandas._libs.hashtable.PyObjectHashTable.get_item\u001b[1;34m()\u001b[0m\n",
      "File \u001b[1;32mpandas\\_libs\\hashtable_class_helper.pxi:7088\u001b[0m, in \u001b[0;36mpandas._libs.hashtable.PyObjectHashTable.get_item\u001b[1;34m()\u001b[0m\n",
      "\u001b[1;31mKeyError\u001b[0m: 'calories'",
      "\nThe above exception was the direct cause of the following exception:\n",
      "\u001b[1;31mKeyError\u001b[0m                                  Traceback (most recent call last)",
      "Cell \u001b[1;32mIn[58], line 7\u001b[0m\n\u001b[0;32m      4\u001b[0m \u001b[38;5;28;01mimport\u001b[39;00m \u001b[38;5;21;01mpandas\u001b[39;00m \u001b[38;5;28;01mas\u001b[39;00m \u001b[38;5;21;01mpd\u001b[39;00m\n\u001b[0;32m      6\u001b[0m df \u001b[38;5;241m=\u001b[39m pd\u001b[38;5;241m.\u001b[39mread_csv(\u001b[38;5;124m'\u001b[39m\u001b[38;5;124mdata.csv\u001b[39m\u001b[38;5;124m'\u001b[39m)\n\u001b[1;32m----> 7\u001b[0m df[\u001b[38;5;124m'\u001b[39m\u001b[38;5;124mcalories\u001b[39m\u001b[38;5;124m'\u001b[39m]\u001b[38;5;241m.\u001b[39mfillna(\u001b[38;5;241m130\u001b[39m, inplace \u001b[38;5;241m=\u001b[39m \u001b[38;5;28;01mTrue\u001b[39;00m)\n",
      "File \u001b[1;32m~\\anaconda3\\envs\\test1\\Lib\\site-packages\\pandas\\core\\frame.py:3896\u001b[0m, in \u001b[0;36mDataFrame.__getitem__\u001b[1;34m(self, key)\u001b[0m\n\u001b[0;32m   3894\u001b[0m \u001b[38;5;28;01mif\u001b[39;00m \u001b[38;5;28mself\u001b[39m\u001b[38;5;241m.\u001b[39mcolumns\u001b[38;5;241m.\u001b[39mnlevels \u001b[38;5;241m>\u001b[39m \u001b[38;5;241m1\u001b[39m:\n\u001b[0;32m   3895\u001b[0m     \u001b[38;5;28;01mreturn\u001b[39;00m \u001b[38;5;28mself\u001b[39m\u001b[38;5;241m.\u001b[39m_getitem_multilevel(key)\n\u001b[1;32m-> 3896\u001b[0m indexer \u001b[38;5;241m=\u001b[39m \u001b[38;5;28mself\u001b[39m\u001b[38;5;241m.\u001b[39mcolumns\u001b[38;5;241m.\u001b[39mget_loc(key)\n\u001b[0;32m   3897\u001b[0m \u001b[38;5;28;01mif\u001b[39;00m is_integer(indexer):\n\u001b[0;32m   3898\u001b[0m     indexer \u001b[38;5;241m=\u001b[39m [indexer]\n",
      "File \u001b[1;32m~\\anaconda3\\envs\\test1\\Lib\\site-packages\\pandas\\core\\indexes\\base.py:3797\u001b[0m, in \u001b[0;36mIndex.get_loc\u001b[1;34m(self, key)\u001b[0m\n\u001b[0;32m   3792\u001b[0m     \u001b[38;5;28;01mif\u001b[39;00m \u001b[38;5;28misinstance\u001b[39m(casted_key, \u001b[38;5;28mslice\u001b[39m) \u001b[38;5;129;01mor\u001b[39;00m (\n\u001b[0;32m   3793\u001b[0m         \u001b[38;5;28misinstance\u001b[39m(casted_key, abc\u001b[38;5;241m.\u001b[39mIterable)\n\u001b[0;32m   3794\u001b[0m         \u001b[38;5;129;01mand\u001b[39;00m \u001b[38;5;28many\u001b[39m(\u001b[38;5;28misinstance\u001b[39m(x, \u001b[38;5;28mslice\u001b[39m) \u001b[38;5;28;01mfor\u001b[39;00m x \u001b[38;5;129;01min\u001b[39;00m casted_key)\n\u001b[0;32m   3795\u001b[0m     ):\n\u001b[0;32m   3796\u001b[0m         \u001b[38;5;28;01mraise\u001b[39;00m InvalidIndexError(key)\n\u001b[1;32m-> 3797\u001b[0m     \u001b[38;5;28;01mraise\u001b[39;00m \u001b[38;5;167;01mKeyError\u001b[39;00m(key) \u001b[38;5;28;01mfrom\u001b[39;00m \u001b[38;5;21;01merr\u001b[39;00m\n\u001b[0;32m   3798\u001b[0m \u001b[38;5;28;01mexcept\u001b[39;00m \u001b[38;5;167;01mTypeError\u001b[39;00m:\n\u001b[0;32m   3799\u001b[0m     \u001b[38;5;66;03m# If we have a listlike key, _check_indexing_error will raise\u001b[39;00m\n\u001b[0;32m   3800\u001b[0m     \u001b[38;5;66;03m#  InvalidIndexError. Otherwise we fall through and re-raise\u001b[39;00m\n\u001b[0;32m   3801\u001b[0m     \u001b[38;5;66;03m#  the TypeError.\u001b[39;00m\n\u001b[0;32m   3802\u001b[0m     \u001b[38;5;28mself\u001b[39m\u001b[38;5;241m.\u001b[39m_check_indexing_error(key)\n",
      "\u001b[1;31mKeyError\u001b[0m: 'calories'"
     ]
    }
   ],
   "source": [
    "#Remplacer uniquement pour les colonnes spécifiées\n",
    "#L'exemple ci-dessus remplace toutes les cellules vides de l'ensemble du bloc de données.\n",
    "#Pour remplacer uniquement les valeurs vides d'une colonne, spécifiez le nom de colonne pour le DataFrame :\n",
    "import pandas as pd\n",
    "\n",
    "df = pd.read_csv('data.csv')\n",
    "df['calories'].fillna(130, inplace = True)"
   ]
  },
  {
   "cell_type": "code",
   "execution_count": null,
   "id": "2c413587",
   "metadata": {},
   "outputs": [],
   "source": [
    "#Remplacer par la moyenne, la médiane ou le mode\n",
    "#Une manière courante de remplacer les cellules vides consiste à calculer la valeur moyenne, médiane ou modale de la colonne.\n",
    "#Pandas utilise les méthodes mean() median()et mode()pour calculer les valeurs respectives pour une colonne spécifiée :\n",
    "import pandas as pd\n",
    "\n",
    "df = pd.read_csv('data.csv')\n",
    "x = df['calories'].mean()\n",
    "df['calories'].fillna(x, inplace = True)\n"
   ]
  },
  {
   "cell_type": "code",
   "execution_count": null,
   "id": "76143235",
   "metadata": {},
   "outputs": [],
   "source": [
    "import pandas as pd\n",
    "\n",
    "df = pd.read_csv('data.csv')\n",
    "x = df['calories'].median()"
   ]
  },
  {
   "cell_type": "code",
   "execution_count": null,
   "id": "0b3565f1",
   "metadata": {},
   "outputs": [],
   "source": [
    "import pandas as pd\n",
    "\n",
    "df = pd.read_csv('data.csv')\n",
    "x = df['calories'].mode()"
   ]
  },
  {
   "cell_type": "markdown",
   "id": "898a352f",
   "metadata": {},
   "source": [
    "Données de mauvais format\n",
    "Les cellules contenant des données dans un format incorrect peuvent rendre difficile, voire impossible, l'analyse des données.\n",
    "\n",
    "Pour résoudre ce problème, vous avez deux options : supprimer les lignes ou convertir toutes les cellules des colonnes dans le même format."
   ]
  },
  {
   "cell_type": "code",
   "execution_count": 60,
   "id": "93105d9f",
   "metadata": {},
   "outputs": [
    {
     "ename": "KeyError",
     "evalue": "'Date'",
     "output_type": "error",
     "traceback": [
      "\u001b[1;31m---------------------------------------------------------------------------\u001b[0m",
      "\u001b[1;31mKeyError\u001b[0m                                  Traceback (most recent call last)",
      "File \u001b[1;32m~\\anaconda3\\envs\\test1\\Lib\\site-packages\\pandas\\core\\indexes\\base.py:3790\u001b[0m, in \u001b[0;36mIndex.get_loc\u001b[1;34m(self, key)\u001b[0m\n\u001b[0;32m   3789\u001b[0m \u001b[38;5;28;01mtry\u001b[39;00m:\n\u001b[1;32m-> 3790\u001b[0m     \u001b[38;5;28;01mreturn\u001b[39;00m \u001b[38;5;28mself\u001b[39m\u001b[38;5;241m.\u001b[39m_engine\u001b[38;5;241m.\u001b[39mget_loc(casted_key)\n\u001b[0;32m   3791\u001b[0m \u001b[38;5;28;01mexcept\u001b[39;00m \u001b[38;5;167;01mKeyError\u001b[39;00m \u001b[38;5;28;01mas\u001b[39;00m err:\n",
      "File \u001b[1;32mindex.pyx:152\u001b[0m, in \u001b[0;36mpandas._libs.index.IndexEngine.get_loc\u001b[1;34m()\u001b[0m\n",
      "File \u001b[1;32mindex.pyx:181\u001b[0m, in \u001b[0;36mpandas._libs.index.IndexEngine.get_loc\u001b[1;34m()\u001b[0m\n",
      "File \u001b[1;32mpandas\\_libs\\hashtable_class_helper.pxi:7080\u001b[0m, in \u001b[0;36mpandas._libs.hashtable.PyObjectHashTable.get_item\u001b[1;34m()\u001b[0m\n",
      "File \u001b[1;32mpandas\\_libs\\hashtable_class_helper.pxi:7088\u001b[0m, in \u001b[0;36mpandas._libs.hashtable.PyObjectHashTable.get_item\u001b[1;34m()\u001b[0m\n",
      "\u001b[1;31mKeyError\u001b[0m: 'Date'",
      "\nThe above exception was the direct cause of the following exception:\n",
      "\u001b[1;31mKeyError\u001b[0m                                  Traceback (most recent call last)",
      "Cell \u001b[1;32mIn[60], line 5\u001b[0m\n\u001b[0;32m      2\u001b[0m \u001b[38;5;28;01mimport\u001b[39;00m \u001b[38;5;21;01mpandas\u001b[39;00m \u001b[38;5;28;01mas\u001b[39;00m \u001b[38;5;21;01mpd\u001b[39;00m\n\u001b[0;32m      4\u001b[0m df \u001b[38;5;241m=\u001b[39m pd\u001b[38;5;241m.\u001b[39mread_csv(\u001b[38;5;124m'\u001b[39m\u001b[38;5;124mdata.csv\u001b[39m\u001b[38;5;124m'\u001b[39m)\n\u001b[1;32m----> 5\u001b[0m df[\u001b[38;5;124m'\u001b[39m\u001b[38;5;124mDate\u001b[39m\u001b[38;5;124m'\u001b[39m] \u001b[38;5;241m=\u001b[39m pd\u001b[38;5;241m.\u001b[39mto_datetime(df[\u001b[38;5;124m'\u001b[39m\u001b[38;5;124mDate\u001b[39m\u001b[38;5;124m'\u001b[39m])\n\u001b[0;32m      6\u001b[0m \u001b[38;5;28mprint\u001b[39m(df\u001b[38;5;241m.\u001b[39mto_string)\n",
      "File \u001b[1;32m~\\anaconda3\\envs\\test1\\Lib\\site-packages\\pandas\\core\\frame.py:3896\u001b[0m, in \u001b[0;36mDataFrame.__getitem__\u001b[1;34m(self, key)\u001b[0m\n\u001b[0;32m   3894\u001b[0m \u001b[38;5;28;01mif\u001b[39;00m \u001b[38;5;28mself\u001b[39m\u001b[38;5;241m.\u001b[39mcolumns\u001b[38;5;241m.\u001b[39mnlevels \u001b[38;5;241m>\u001b[39m \u001b[38;5;241m1\u001b[39m:\n\u001b[0;32m   3895\u001b[0m     \u001b[38;5;28;01mreturn\u001b[39;00m \u001b[38;5;28mself\u001b[39m\u001b[38;5;241m.\u001b[39m_getitem_multilevel(key)\n\u001b[1;32m-> 3896\u001b[0m indexer \u001b[38;5;241m=\u001b[39m \u001b[38;5;28mself\u001b[39m\u001b[38;5;241m.\u001b[39mcolumns\u001b[38;5;241m.\u001b[39mget_loc(key)\n\u001b[0;32m   3897\u001b[0m \u001b[38;5;28;01mif\u001b[39;00m is_integer(indexer):\n\u001b[0;32m   3898\u001b[0m     indexer \u001b[38;5;241m=\u001b[39m [indexer]\n",
      "File \u001b[1;32m~\\anaconda3\\envs\\test1\\Lib\\site-packages\\pandas\\core\\indexes\\base.py:3797\u001b[0m, in \u001b[0;36mIndex.get_loc\u001b[1;34m(self, key)\u001b[0m\n\u001b[0;32m   3792\u001b[0m     \u001b[38;5;28;01mif\u001b[39;00m \u001b[38;5;28misinstance\u001b[39m(casted_key, \u001b[38;5;28mslice\u001b[39m) \u001b[38;5;129;01mor\u001b[39;00m (\n\u001b[0;32m   3793\u001b[0m         \u001b[38;5;28misinstance\u001b[39m(casted_key, abc\u001b[38;5;241m.\u001b[39mIterable)\n\u001b[0;32m   3794\u001b[0m         \u001b[38;5;129;01mand\u001b[39;00m \u001b[38;5;28many\u001b[39m(\u001b[38;5;28misinstance\u001b[39m(x, \u001b[38;5;28mslice\u001b[39m) \u001b[38;5;28;01mfor\u001b[39;00m x \u001b[38;5;129;01min\u001b[39;00m casted_key)\n\u001b[0;32m   3795\u001b[0m     ):\n\u001b[0;32m   3796\u001b[0m         \u001b[38;5;28;01mraise\u001b[39;00m InvalidIndexError(key)\n\u001b[1;32m-> 3797\u001b[0m     \u001b[38;5;28;01mraise\u001b[39;00m \u001b[38;5;167;01mKeyError\u001b[39;00m(key) \u001b[38;5;28;01mfrom\u001b[39;00m \u001b[38;5;21;01merr\u001b[39;00m\n\u001b[0;32m   3798\u001b[0m \u001b[38;5;28;01mexcept\u001b[39;00m \u001b[38;5;167;01mTypeError\u001b[39;00m:\n\u001b[0;32m   3799\u001b[0m     \u001b[38;5;66;03m# If we have a listlike key, _check_indexing_error will raise\u001b[39;00m\n\u001b[0;32m   3800\u001b[0m     \u001b[38;5;66;03m#  InvalidIndexError. Otherwise we fall through and re-raise\u001b[39;00m\n\u001b[0;32m   3801\u001b[0m     \u001b[38;5;66;03m#  the TypeError.\u001b[39;00m\n\u001b[0;32m   3802\u001b[0m     \u001b[38;5;28mself\u001b[39m\u001b[38;5;241m.\u001b[39m_check_indexing_error(key)\n",
      "\u001b[1;31mKeyError\u001b[0m: 'Date'"
     ]
    }
   ],
   "source": [
    "#Pandas a une to_datetime()méthode pour cela :\n",
    "import pandas as pd\n",
    "\n",
    "df = pd.read_csv('data.csv')\n",
    "df['Date'] = pd.to_datetime(df['Date'])\n",
    "print(df.to_string)"
   ]
  },
  {
   "cell_type": "code",
   "execution_count": null,
   "id": "2a85f7fc",
   "metadata": {},
   "outputs": [],
   "source": [
    "#une autre facon serai de supprimer cette ligne\n",
    "df.dropna(subset=['Date'],inplace=True)\n"
   ]
  },
  {
   "cell_type": "markdown",
   "id": "4288b634",
   "metadata": {},
   "source": [
    "# nettoyer les donner ne veut pas seulement dire quil sont sur un mauvais formats il peuvent egalement etre erroner"
   ]
  },
  {
   "cell_type": "code",
   "execution_count": null,
   "id": "7432c953",
   "metadata": {},
   "outputs": [],
   "source": [
    "#Une façon de corriger les mauvaises valeurs consiste à les remplacer par autre chose.\n",
    "#Dans notre exemple, il s'agit très probablement d'une faute de frappe, et la valeur devrait être \"45\" au lieu de \"450\", \n",
    "#et nous pourrions simplement insérer \"45\" dans la ligne 7 \n",
    "\n",
    "df.loc[7,'Duration'] = 45\n",
    "#donc 7 represente la ligne \n",
    "#et 'Duration' la duree qui est ce quon modifier donc sur ca ligne"
   ]
  },
  {
   "cell_type": "markdown",
   "id": "900466d1",
   "metadata": {},
   "source": [
    "pour les petits ensembles de données, vous pourrez peut-être remplacer les mauvaises données une par une, mais pas pour les grands ensembles de données.\n",
    "\n",
    "Pour remplacer des données erronées par des ensembles de données plus volumineux, vous pouvez créer des règles, par exemple définir des limites pour les valeurs légales et remplacer toutes les valeurs qui se trouvent en dehors des limites"
   ]
  },
  {
   "cell_type": "code",
   "execution_count": null,
   "id": "501e5aba",
   "metadata": {},
   "outputs": [],
   "source": [
    "for x in df.index:\n",
    "    if df.loc[x,'Duration']> 120:\n",
    "        df.loc[x,'Duration'] = 120"
   ]
  },
  {
   "cell_type": "markdown",
   "id": "402aa38d",
   "metadata": {},
   "source": [
    "ne autre façon de gérer les données erronées consiste à supprimer les lignes contenant des données erronées.\n",
    "\n",
    "De cette façon, vous n’avez pas à chercher par quoi les remplacer, et il y a de fortes chances que vous n’en ayez pas besoin pour faire vos analyses.\n"
   ]
  },
  {
   "cell_type": "code",
   "execution_count": null,
   "id": "f12cdf18",
   "metadata": {},
   "outputs": [],
   "source": [
    "for x in df.index:\n",
    "    if df.loc[x,'Duration'] > 120:\n",
    "        df.drop(x,inplace=True)\n",
    "    "
   ]
  },
  {
   "cell_type": "markdown",
   "id": "2fc9169b",
   "metadata": {},
   "source": [
    "# Découverte des doublons"
   ]
  },
  {
   "cell_type": "markdown",
   "id": "a0325408",
   "metadata": {},
   "source": [
    "En examinant notre ensemble de données de test, nous pouvons supposer que les lignes 11 et 12 sont des doublons.\n",
    "\n",
    "Pour découvrir les doublons, nous pouvons utiliser la duplicated()méthode.\n",
    "\n",
    "La duplicated()méthode renvoie des valeurs booléennes pour chaque ligne "
   ]
  },
  {
   "cell_type": "code",
   "execution_count": null,
   "id": "7a5674f6",
   "metadata": {},
   "outputs": [],
   "source": [
    "#Renvoie Truepour chaque ligne qui est un doublon, sinonFalse :\n",
    "print(df.duplicated())"
   ]
  },
  {
   "cell_type": "markdown",
   "id": "4ab8b46a",
   "metadata": {},
   "source": [
    "# Pour supprimer les doublons, utilisez la drop_duplicates()méthode."
   ]
  },
  {
   "cell_type": "code",
   "execution_count": null,
   "id": "e5f492f0",
   "metadata": {},
   "outputs": [],
   "source": [
    "df.drop_duplicates(inplace = true)"
   ]
  },
  {
   "cell_type": "markdown",
   "id": "f0c872a9",
   "metadata": {},
   "source": [
    "# Trouver des relations\n",
    "# Un aspect intéressant du module Pandas est la corr()méthode.\n",
    "# La corr()méthode calcule la relation entre chaque colonne de votre ensemble de données."
   ]
  },
  {
   "cell_type": "code",
   "execution_count": null,
   "id": "9d53b110",
   "metadata": {},
   "outputs": [],
   "source": [
    "exemple : df.corr()\n",
    " #la corr()méthode ignore les colonnes « non numériques »."
   ]
  },
  {
   "cell_type": "markdown",
   "id": "2436af2e",
   "metadata": {},
   "source": [
    "Le nombre varie de -1 à 1.\n",
    "\n",
    "1 signifie qu'il existe une relation de 1 à 1 (une corrélation parfaite), et pour cet ensemble de données, chaque fois qu'une valeur augmentait dans la première colonne, l'autre augmentait également.\n",
    "\n",
    "0,9 est également une bonne relation, et si vous augmentez une valeur, l’autre augmentera probablement également.\n",
    "\n",
    "-0,9 serait une relation tout aussi bonne que 0,9, mais si vous augmentez une valeur, l'autre diminuera probablement.\n",
    "\n",
    "0,2 ne signifie PAS une bonne relation, ce qui signifie que si une valeur augmente, cela ne signifie pas que l'autre le fera."
   ]
  },
  {
   "cell_type": "markdown",
   "id": "72231e4f",
   "metadata": {},
   "source": [
    "# Qu'est-ce qu'une bonne corrélation ? Cela dépend de l'utilisation, mais je pense qu'il est prudent de dire qu'il faut au moins 0.6(ou -0.6) pour appeler cela une bonne corrélation."
   ]
  },
  {
   "cell_type": "markdown",
   "id": "fccb49a3",
   "metadata": {},
   "source": [
    "# le tracage avec pandas"
   ]
  },
  {
   "cell_type": "markdown",
   "id": "95804b0d",
   "metadata": {},
   "source": [
    "Traçage\n",
    "Pandas utilise la plot()méthode pour créer des diagrammes.\n",
    "\n",
    "On peut utiliser Pyplot, un sous-module de la bibliothèque Matplotlib pour visualiser le diagramme à l'écran.\n",
    "\n",
    "En savoir plus sur Matplotlib\n"
   ]
  },
  {
   "cell_type": "code",
   "execution_count": null,
   "id": "a1c6c9c7",
   "metadata": {},
   "outputs": [],
   "source": [
    "#ici cest pour le tracage\n",
    "import pandas as pd\n",
    "import matplotlib.pyplot as plt\n",
    "\n",
    "df = pd.read_csv(\"data.csv\")\n",
    "df.plot()\n",
    "ply.show()"
   ]
  },
  {
   "cell_type": "markdown",
   "id": "9f0cf9c2",
   "metadata": {},
   "source": [
    "Nuage de points\n",
    "Spécifiez que vous souhaitez un nuage de points avec l' kindargument :\n",
    "\n",
    "kind = 'scatter'\n",
    "\n",
    "Un nuage de points a besoin d’un axe x et d’un axe y.\n",
    "\n",
    "Dans l'exemple ci-dessous, nous utiliserons « Durée » pour l'axe des x et « Calories » pour l'axe des y.\n",
    "\n",
    "Incluez les arguments x et y comme ceci :\n",
    "\n",
    "x = 'Duration', y = 'Calories'"
   ]
  },
  {
   "cell_type": "code",
   "execution_count": null,
   "id": "c0078ab9",
   "metadata": {},
   "outputs": [],
   "source": [
    "import pandas as pd\n",
    "import matplotlib.pyplot as plt\n",
    "\n",
    "df = pd.read_csv('data.csv')\n",
    "\n",
    "df.plot(king='scratter' x='Duration',y='Calories')\n",
    "\n",
    "plt.show()\n"
   ]
  },
  {
   "cell_type": "markdown",
   "id": "4a1e8f05",
   "metadata": {},
   "source": [
    "Histogramme\n",
    "Utilisez l' kind argument pour spécifier que vous souhaitez un histogramme :\n",
    "\n",
    "kind = 'hist'\n",
    "\n",
    "Un histogramme n'a besoin que d'une seule colonne.\n",
    "\n",
    "Un histogramme nous montre la fréquence de chaque intervalle, par exemple combien d'entraînements ont duré entre 50 et 60 minutes ?\n",
    "\n",
    "Dans l'exemple ci-dessous nous utiliserons la colonne \"Durée\" pour créer l'histogramme :"
   ]
  },
  {
   "cell_type": "code",
   "execution_count": null,
   "id": "19ae961d",
   "metadata": {},
   "outputs": [],
   "source": [
    "df[\"Duration\"].plot(kind = 'hist')"
   ]
  },
  {
   "cell_type": "code",
   "execution_count": null,
   "id": "853e9c83",
   "metadata": {},
   "outputs": [],
   "source": [
    "import pandas as pd\n",
    "import matplotlib.pyplot as plt\n",
    "\n",
    "df = pd.read_csv('data.csv')\n",
    "\n",
    "df['calories'].plot(kind='hist')\n",
    "\n",
    "plt.show()"
   ]
  }
 ],
 "metadata": {
  "kernelspec": {
   "display_name": "Python 3 (ipykernel)",
   "language": "python",
   "name": "python3"
  },
  "language_info": {
   "codemirror_mode": {
    "name": "ipython",
    "version": 3
   },
   "file_extension": ".py",
   "mimetype": "text/x-python",
   "name": "python",
   "nbconvert_exporter": "python",
   "pygments_lexer": "ipython3",
   "version": "3.11.5"
  }
 },
 "nbformat": 4,
 "nbformat_minor": 5
}
