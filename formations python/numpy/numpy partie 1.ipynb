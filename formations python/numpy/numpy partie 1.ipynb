{
 "cells": [
  {
   "cell_type": "markdown",
   "id": "546edd8d",
   "metadata": {},
   "source": [
    "# NUMPY est une bibliothete python utiliser pour les operations dans les tableaux elle proposes des fonctions pour travailler sur lalgebre lineaire et la transformee de fourrier "
   ]
  },
  {
   "cell_type": "code",
   "execution_count": 1,
   "id": "ce166e7d",
   "metadata": {},
   "outputs": [],
   "source": [
    "#importation de numpy \n",
    "\n",
    "import numpy #cette methode fonctionne aussi parfaitement \n",
    "import numpy as np #cette methode marche pour l'utiliser comme np"
   ]
  },
  {
   "cell_type": "code",
   "execution_count": 2,
   "id": "8a23b8b3",
   "metadata": {},
   "outputs": [
    {
     "name": "stdout",
     "output_type": "stream",
     "text": [
      "[1 2 3 4 5]\n"
     ]
    }
   ],
   "source": [
    "arr = np.array([1,2,3,4,5])\n",
    "print(arr)"
   ]
  },
  {
   "cell_type": "code",
   "execution_count": 3,
   "id": "c4b00eef",
   "metadata": {},
   "outputs": [
    {
     "name": "stdout",
     "output_type": "stream",
     "text": [
      "1.26.0\n"
     ]
    }
   ],
   "source": [
    "#pour voir la version de numpy\n",
    "print(np.__version__)"
   ]
  },
  {
   "cell_type": "code",
   "execution_count": 4,
   "id": "95575140",
   "metadata": {},
   "outputs": [
    {
     "name": "stdout",
     "output_type": "stream",
     "text": [
      "[1 2 3 4 5]\n"
     ]
    }
   ],
   "source": [
    "#on peut utiliser les tuples pour creer un tableau avec les numpys\n",
    "import numpy as np\n",
    "\n",
    "arr = np.array((1,2,3,4,5))\n",
    "print(arr)"
   ]
  },
  {
   "cell_type": "code",
   "execution_count": 5,
   "id": "18768284",
   "metadata": {},
   "outputs": [
    {
     "name": "stdout",
     "output_type": "stream",
     "text": [
      "42\n"
     ]
    }
   ],
   "source": [
    "#les tableaux 0-D\n",
    "import numpy as np\n",
    "\n",
    "arr0 = np.array(42)\n",
    "\n",
    "print(arr0)"
   ]
  },
  {
   "cell_type": "code",
   "execution_count": 6,
   "id": "0910529b",
   "metadata": {},
   "outputs": [
    {
     "name": "stdout",
     "output_type": "stream",
     "text": [
      "[1 2 3 4 5 6]\n"
     ]
    }
   ],
   "source": [
    "#les tableaux a 1-D\n",
    "#cet a dire les tableaux unidimentionnels\n",
    "\n",
    "import numpy as np\n",
    "arr1 = np.array([1,2,3,4,5,6])\n",
    "print(arr1)"
   ]
  },
  {
   "cell_type": "code",
   "execution_count": 9,
   "id": "2ecfecde",
   "metadata": {},
   "outputs": [
    {
     "name": "stdout",
     "output_type": "stream",
     "text": [
      "[[1 2 3 4]\n",
      " [4 5 6 9]]\n"
     ]
    }
   ],
   "source": [
    "#les tableaux a 2-D\n",
    "#cet a dire les tableaux bidimentionnels\n",
    "\n",
    "import numpy as np\n",
    "arr2 = np.array([[1,2,3,4],[4,5,6,9]])\n",
    "print(arr2)"
   ]
  },
  {
   "cell_type": "code",
   "execution_count": 14,
   "id": "a4f2e59b",
   "metadata": {},
   "outputs": [
    {
     "name": "stdout",
     "output_type": "stream",
     "text": [
      "[[[1 2 3]\n",
      "  [4 5 6]]\n",
      "\n",
      " [[1 2 3]\n",
      "  [4 5 6]]]\n"
     ]
    }
   ],
   "source": [
    "#les tableaux a 3-D\n",
    "#cet a dire les tableaux tridimentionnels\n",
    "\n",
    "import numpy as np\n",
    "arr3 = np.array([ [ [1,2,3],[4,5,6] ], [ [1,2,3],[4,5,6] ] ])\n",
    "print(arr3)"
   ]
  },
  {
   "cell_type": "code",
   "execution_count": 16,
   "id": "c8fb3e7e",
   "metadata": {},
   "outputs": [
    {
     "name": "stdout",
     "output_type": "stream",
     "text": [
      "0\n",
      "1\n",
      "2\n",
      "3\n"
     ]
    }
   ],
   "source": [
    "#pour verifier la dimension d'un tableau\n",
    "a = np.array(42)\n",
    "b = np.array([1, 2, 3, 4, 5])\n",
    "c = np.array([[1, 2, 3], [4, 5, 6]])\n",
    "d = np.array([[[1, 2, 3], [4, 5, 6]], [[1, 2, 3], [4, 5, 6]]])\n",
    "\n",
    "print(a.ndim)\n",
    "print(b.ndim)\n",
    "print(c.ndim)\n",
    "print(d.ndim)"
   ]
  },
  {
   "cell_type": "code",
   "execution_count": 19,
   "id": "e12bc502",
   "metadata": {},
   "outputs": [
    {
     "name": "stdout",
     "output_type": "stream",
     "text": [
      "[[[[[1 2 3 4]]]]]\n",
      "la dimension est de  5\n"
     ]
    }
   ],
   "source": [
    "#quand nous creons nous pouvons donner la dimension en utilisant ndmin\n",
    "import numpy as np\n",
    "arr = np.array([1,2,3,4],ndmin=5)\n",
    "print(arr)\n",
    "print('la dimension est de ',arr.ndim)"
   ]
  },
  {
   "cell_type": "code",
   "execution_count": 21,
   "id": "15ad959a",
   "metadata": {},
   "outputs": [
    {
     "name": "stdout",
     "output_type": "stream",
     "text": [
      "2\n",
      "5\n"
     ]
    }
   ],
   "source": [
    "#indexes les elements d'un tableau\n",
    "\n",
    "import numpy as np\n",
    "\n",
    "arr = np.array([1,2,3,4,5,6])\n",
    "\n",
    "print(arr[1])\n",
    "print(arr[1] + arr[2])"
   ]
  },
  {
   "cell_type": "code",
   "execution_count": 26,
   "id": "52ae8fd5",
   "metadata": {},
   "outputs": [
    {
     "name": "stdout",
     "output_type": "stream",
     "text": [
      "affiche le deuxiemen elements tu premier tableaux:  2\n"
     ]
    }
   ],
   "source": [
    "#indexes les elements d'un tableau a deux dimensions\n",
    "import numpy as np\n",
    "arr = np.array([[1,2,3,4],[4,8,7,6]])\n",
    "print('affiche le deuxiemen elements tu premier tableaux: ',arr[0,1])"
   ]
  },
  {
   "cell_type": "code",
   "execution_count": 27,
   "id": "988f61e5",
   "metadata": {},
   "outputs": [
    {
     "name": "stdout",
     "output_type": "stream",
     "text": [
      "accede au troisiemes elements du deuxieme tableaux du premier tableau:  7\n"
     ]
    }
   ],
   "source": [
    "#indexes les elements d'un tableau a trois dimensions\n",
    "\n",
    "import numpy as np\n",
    "arr = np.array([ [ [1,2,3,4],[5,6,7,8] ],[ [4,3,2,1],[9,8,7,6] ] ])\n",
    "print(\"accede au troisiemes elements du deuxieme tableaux du premier tableau: \",arr[0,1,2])"
   ]
  },
  {
   "cell_type": "code",
   "execution_count": 28,
   "id": "f3d07246",
   "metadata": {},
   "outputs": [
    {
     "name": "stdout",
     "output_type": "stream",
     "text": [
      "Last element from 2nd dim:  10\n"
     ]
    }
   ],
   "source": [
    "#indexation negative \n",
    "import numpy as np\n",
    "\n",
    "arr = np.array([[1,2,3,4,5], [6,7,8,9,10]])\n",
    "\n",
    "print('Last element from 2nd dim: ', arr[1, -1])"
   ]
  },
  {
   "cell_type": "markdown",
   "id": "2cb3140c",
   "metadata": {},
   "source": [
    "## decoupage de tableau "
   ]
  },
  {
   "cell_type": "code",
   "execution_count": 29,
   "id": "b9f266f7",
   "metadata": {},
   "outputs": [
    {
     "name": "stdout",
     "output_type": "stream",
     "text": [
      "[2 3 4 5]\n"
     ]
    }
   ],
   "source": [
    "#on effectue le decoupage de ceci\n",
    "import numpy as np\n",
    "\n",
    "arr = np.array([1, 2, 3, 4, 5, 6, 7])\n",
    "\n",
    "print(arr[1:5])"
   ]
  },
  {
   "cell_type": "code",
   "execution_count": 30,
   "id": "e9c9fbee",
   "metadata": {},
   "outputs": [
    {
     "name": "stdout",
     "output_type": "stream",
     "text": [
      "[2 4]\n"
     ]
    }
   ],
   "source": [
    "#ici on effectue les sauts de deux \n",
    "import numpy as np\n",
    "\n",
    "arr = np.array([1, 2, 3, 4, 5, 6, 7])\n",
    "\n",
    "print(arr[1:5:2])#on part de 1 jusqua 5 maintenant apres l'element a l'index 1 on prend par pat de deux"
   ]
  },
  {
   "cell_type": "code",
   "execution_count": 31,
   "id": "548e88d7",
   "metadata": {},
   "outputs": [
    {
     "name": "stdout",
     "output_type": "stream",
     "text": [
      "[1 3 5 7]\n"
     ]
    }
   ],
   "source": [
    "#on prend tous les elements du tableaux mais en pats de deux\n",
    "import numpy as np\n",
    "\n",
    "arr = np.array([1, 2, 3, 4, 5, 6, 7])\n",
    "\n",
    "print(arr[::2])"
   ]
  },
  {
   "cell_type": "code",
   "execution_count": 32,
   "id": "8845c206",
   "metadata": {},
   "outputs": [
    {
     "name": "stdout",
     "output_type": "stream",
     "text": [
      "[7 8 9]\n"
     ]
    }
   ],
   "source": [
    "#cet a dire a partir du tableau deux prend le deuxieme element exclu le 4eme\n",
    "import numpy as np\n",
    "\n",
    "arr = np.array([[1, 2, 3, 4, 5], [6, 7, 8, 9, 10]])\n",
    "\n",
    "print(arr[1, 1:4])"
   ]
  },
  {
   "cell_type": "code",
   "execution_count": 41,
   "id": "f5de93d2",
   "metadata": {},
   "outputs": [
    {
     "name": "stdout",
     "output_type": "stream",
     "text": [
      "[3 7]\n"
     ]
    }
   ],
   "source": [
    "#a partir des deux element prend le troisieme element de chacun\n",
    "import numpy as np\n",
    "\n",
    "arr = np.array([ [1,2,3,4],[5,6,7,8] ])\n",
    "print(arr[0:2, 2])"
   ]
  },
  {
   "cell_type": "code",
   "execution_count": 46,
   "id": "0c8bb6ff",
   "metadata": {},
   "outputs": [
    {
     "name": "stdout",
     "output_type": "stream",
     "text": [
      "[[2 3 4]\n",
      " [7 8 9]]\n"
     ]
    }
   ],
   "source": [
    "#cela veut dire a partir des deux tableau effectue une tranche des deux elemets de 1 au 3ene car le 4ene est exclus\n",
    "import numpy as np\n",
    "\n",
    "arr = np.array([[1, 2, 3, 4, 5], [6, 7, 8, 9, 10]])\n",
    "\n",
    "print(arr[0:2, 1:4])"
   ]
  },
  {
   "cell_type": "markdown",
   "id": "56376bf9",
   "metadata": {},
   "source": [
    "#les types de donnes utilises par numpy et leurs abbreviations\n",
    "\n",
    "i- entier\n",
    "b- booléen\n",
    "u- entier non signé\n",
    "f- flotter\n",
    "c- flotteur complexe\n",
    "m- delta de temps\n",
    "M- dateheure\n",
    "O- objet\n",
    "S- chaîne\n",
    "U- chaîne Unicode\n",
    "V- morceau de mémoire fixe pour un autre type (void)"
   ]
  },
  {
   "cell_type": "code",
   "execution_count": 47,
   "id": "6f9185e4",
   "metadata": {},
   "outputs": [
    {
     "name": "stdout",
     "output_type": "stream",
     "text": [
      "int32\n"
     ]
    }
   ],
   "source": [
    "#dtype est une proprieter en numpy qui donne le type de tableau\n",
    "import numpy as np\n",
    "\n",
    "arr=np.array([1,2,3,4,5])\n",
    "print(arr.dtype)"
   ]
  },
  {
   "cell_type": "code",
   "execution_count": 48,
   "id": "232a60c5",
   "metadata": {},
   "outputs": [
    {
     "name": "stdout",
     "output_type": "stream",
     "text": [
      "<U6\n"
     ]
    }
   ],
   "source": [
    "import numpy as np\n",
    "\n",
    "arr = np.array(['apple', 'banana', 'cherry'])\n",
    "\n",
    "print(arr.dtype)"
   ]
  },
  {
   "cell_type": "code",
   "execution_count": 49,
   "id": "d255d15c",
   "metadata": {},
   "outputs": [
    {
     "name": "stdout",
     "output_type": "stream",
     "text": [
      "[b'1' b'2' b'3' b'4']\n",
      "|S1\n"
     ]
    }
   ],
   "source": [
    "#ici on peut precicer le type de donnee attendu\n",
    "import numpy as np\n",
    "\n",
    "arr=np.array([1,2,3,4],dtype=\"S\")\n",
    "\n",
    "print(arr)\n",
    "print(arr.dtype)"
   ]
  },
  {
   "cell_type": "code",
   "execution_count": 50,
   "id": "e5b772b7",
   "metadata": {},
   "outputs": [
    {
     "name": "stdout",
     "output_type": "stream",
     "text": [
      "[1 2 3 4]\n",
      "int32\n"
     ]
    }
   ],
   "source": [
    "#creer un entier de 4 octets\n",
    "import numpy as np\n",
    "\n",
    "arr = np.array([1, 2, 3, 4], dtype='i4')\n",
    "\n",
    "print(arr)\n",
    "print(arr.dtype)"
   ]
  },
  {
   "cell_type": "code",
   "execution_count": 52,
   "id": "5d245b37",
   "metadata": {},
   "outputs": [
    {
     "name": "stdout",
     "output_type": "stream",
     "text": [
      "[1 2 3 4 5]\n",
      "int32\n"
     ]
    }
   ],
   "source": [
    "#Conversion du type de données sur des tableaux existants on utilise astype\n",
    "\n",
    "import numpy as np\n",
    "arr = np.array([1.2,2.5,3.6,4.8,5.9])\n",
    "newarr= arr.astype(\"i\")\n",
    "print(newarr)\n",
    "print(newarr.dtype)"
   ]
  },
  {
   "cell_type": "code",
   "execution_count": 53,
   "id": "a53c198f",
   "metadata": {},
   "outputs": [
    {
     "name": "stdout",
     "output_type": "stream",
     "text": [
      "[1 2 3 4]\n",
      "int32\n"
     ]
    }
   ],
   "source": [
    "#conversion en utilisant le mot cle int\n",
    "\n",
    "import numpy as np\n",
    "arr = np.array([1.9,2.8,3.6,4.3])\n",
    "newarr2 = arr.astype(int)\n",
    "print(newarr2)\n",
    "print(newarr2.dtype)"
   ]
  },
  {
   "cell_type": "markdown",
   "id": "73d98bba",
   "metadata": {},
   "source": [
    "La différence entre copier et afficher\n",
    "La principale différence entre une copie et une vue d'un tableau est que la copie est un nouveau tableau et que la vue est simplement une vue du tableau d'origine.\n",
    "\n",
    "La copie est propriétaire des données et toute modification apportée à la copie n'affectera pas le tableau d'origine, et toute modification apportée au tableau d'origine n'affectera pas la copie.\n",
    "\n",
    "La vue n'est pas propriétaire des données et toute modification apportée à la vue affectera le tableau d'origine, et toute modification apportée au tableau d'origine affectera la vue."
   ]
  },
  {
   "cell_type": "code",
   "execution_count": 55,
   "id": "677938ae",
   "metadata": {},
   "outputs": [
    {
     "name": "stdout",
     "output_type": "stream",
     "text": [
      "[1 2 3 4]\n",
      "[1 2 3 4]\n"
     ]
    }
   ],
   "source": [
    "#copier un tableau\n",
    "\n",
    "import numpy as np\n",
    "\n",
    "arr = np.array([1,2,3,4])\n",
    "\n",
    "arr2 = arr.copy()\n",
    "\n",
    "print(arr)\n",
    "print(arr2)"
   ]
  },
  {
   "cell_type": "code",
   "execution_count": 56,
   "id": "7f50cc53",
   "metadata": {},
   "outputs": [
    {
     "name": "stdout",
     "output_type": "stream",
     "text": [
      "[42  2  3  4]\n",
      "[42  2  3  4]\n"
     ]
    }
   ],
   "source": [
    "import numpy as np\n",
    "arr = np.array([1,2,3,4])\n",
    "x = arr.view()\n",
    "arr[0] = 42\n",
    "\n",
    "print(x)\n",
    "print(arr)"
   ]
  },
  {
   "cell_type": "code",
   "execution_count": 57,
   "id": "27b5a91a",
   "metadata": {},
   "outputs": [
    {
     "name": "stdout",
     "output_type": "stream",
     "text": [
      "[31  2  3  4  5]\n",
      "[31  2  3  4  5]\n"
     ]
    }
   ],
   "source": [
    "import numpy as np\n",
    "\n",
    "arr = np.array([1, 2, 3, 4, 5])\n",
    "x = arr.view()\n",
    "x[0] = 31\n",
    "\n",
    "print(arr)\n",
    "print(x)"
   ]
  },
  {
   "cell_type": "code",
   "execution_count": 58,
   "id": "be21581a",
   "metadata": {},
   "outputs": [
    {
     "name": "stdout",
     "output_type": "stream",
     "text": [
      "None\n",
      "[1 2 3 4 5]\n"
     ]
    }
   ],
   "source": [
    "#mprimez la valeur de l'attribut de base pour vérifier si un tableau possède ses données ou non\n",
    "import numpy as np\n",
    "\n",
    "arr = np.array([1, 2, 3, 4, 5])\n",
    "\n",
    "x = arr.copy()\n",
    "y = arr.view()\n",
    "\n",
    "print(x.base)\n",
    "print(y.base)"
   ]
  },
  {
   "cell_type": "code",
   "execution_count": 59,
   "id": "af1f1b27",
   "metadata": {},
   "outputs": [
    {
     "name": "stdout",
     "output_type": "stream",
     "text": [
      "(2, 4)\n"
     ]
    }
   ],
   "source": [
    "#on utilise shape pour voir lindex et le nombre delement dun tableau qui est renvoyer sous form de tuple exemple\n",
    "\n",
    "import numpy as np\n",
    "\n",
    "arr = np.array([ [1,2,3,4],[5,6,7,8] ])\n",
    "print(arr.shape)#L'exemple ci-dessus renvoie (2, 4), ce qui signifie que le tableau a 2 dimensions, \n",
    "#où la première dimension a 2 éléments et la seconde en a 4."
   ]
  },
  {
   "cell_type": "code",
   "execution_count": 62,
   "id": "3855274c",
   "metadata": {},
   "outputs": [
    {
     "name": "stdout",
     "output_type": "stream",
     "text": [
      "(1, 1, 1, 1, 4)\n",
      "5\n"
     ]
    }
   ],
   "source": [
    "import numpy as np\n",
    "arr = np.array([1,2,3,4],ndmin=5)\n",
    "print(arr.shape)\n",
    "print(arr.ndim)"
   ]
  },
  {
   "cell_type": "code",
   "execution_count": 63,
   "id": "f8f022fe",
   "metadata": {},
   "outputs": [],
   "source": [
    "#reshape est utiliser pour donner une nouvelle dimension a un tableau deja creer"
   ]
  },
  {
   "cell_type": "code",
   "execution_count": 64,
   "id": "b0703fad",
   "metadata": {},
   "outputs": [
    {
     "name": "stdout",
     "output_type": "stream",
     "text": [
      "[[ 2  3  4]\n",
      " [ 5  6  7]\n",
      " [ 8  9  1]\n",
      " [23 45 67]]\n"
     ]
    }
   ],
   "source": [
    "import numpy as np\n",
    "arr = np.array([2,3,4,5,6,7,8,9,1,23,45,67])\n",
    "newaray= arr.reshape(4,3)\n",
    "print(newaray)"
   ]
  },
  {
   "cell_type": "code",
   "execution_count": 65,
   "id": "68901b51",
   "metadata": {},
   "outputs": [
    {
     "name": "stdout",
     "output_type": "stream",
     "text": [
      "1\n",
      "2\n",
      "3\n"
     ]
    }
   ],
   "source": [
    "#parcourir les elements d'un tableau\n",
    "import numpy as np\n",
    "\n",
    "arr = np.array([1, 2, 3])\n",
    "\n",
    "for x in arr:\n",
    "  print(x)"
   ]
  },
  {
   "cell_type": "code",
   "execution_count": 66,
   "id": "07d3cc90",
   "metadata": {},
   "outputs": [
    {
     "name": "stdout",
     "output_type": "stream",
     "text": [
      "1\n",
      "2\n",
      "3\n",
      "4\n",
      "5\n",
      "6\n"
     ]
    }
   ],
   "source": [
    "import numpy as np\n",
    "\n",
    "arr = np.array([[1, 2, 3], [4, 5, 6]])\n",
    "\n",
    "for x in arr:\n",
    "    for y in x:\n",
    "        print(y)"
   ]
  },
  {
   "cell_type": "code",
   "execution_count": 69,
   "id": "483455db",
   "metadata": {},
   "outputs": [
    {
     "name": "stdout",
     "output_type": "stream",
     "text": [
      "1\n",
      "2\n",
      "3\n",
      "4\n",
      "5\n",
      "6\n",
      "7\n",
      "8\n",
      "9\n",
      "10\n",
      "11\n",
      "12\n"
     ]
    }
   ],
   "source": [
    "import numpy as np\n",
    "\n",
    "arr = np.array([[[1, 2, 3], [4, 5, 6]], [[7, 8, 9], [10, 11, 12]]])\n",
    "for x in arr:\n",
    "    for y in x:\n",
    "        for z in y:\n",
    "            print(z)"
   ]
  },
  {
   "cell_type": "code",
   "execution_count": 73,
   "id": "d62a921c",
   "metadata": {},
   "outputs": [
    {
     "name": "stdout",
     "output_type": "stream",
     "text": [
      "1\n",
      "2\n",
      "3\n",
      "4\n",
      "5\n",
      "6\n",
      "7\n",
      "8\n"
     ]
    }
   ],
   "source": [
    "#parcourir le tableau a chaque fois est tres fatiguant du coup il est mieux dutiliser la fonction nditer qui nous permet\n",
    "#de le faire sur des dimension avancer\n",
    "import numpy as np\n",
    "arr = np.array([[[1, 2], [3, 4]], [[5, 6], [7, 8]]])\n",
    "for x in np.nditer(arr):\n",
    "    print(x)\n"
   ]
  },
  {
   "cell_type": "code",
   "execution_count": 74,
   "id": "6d1387a0",
   "metadata": {},
   "outputs": [
    {
     "name": "stdout",
     "output_type": "stream",
     "text": [
      "b'1'\n",
      "b'2'\n",
      "b'3'\n"
     ]
    }
   ],
   "source": [
    "#lorsquon fait un iteration on peut egalement changer le type de donnee attendu et cela nest pas changer dans le tableau mais \n",
    "#dans un espace appeller tampon on procede comme suite\n",
    "\n",
    "import numpy as np\n",
    "arr = np.array([1,2,3])\n",
    "for x in np.nditer(arr,flags=['buffered'], op_dtypes=['S']):\n",
    "    print(x)"
   ]
  },
  {
   "cell_type": "code",
   "execution_count": 78,
   "id": "f50f4083",
   "metadata": {},
   "outputs": [
    {
     "name": "stdout",
     "output_type": "stream",
     "text": [
      "1\n",
      "3\n",
      "4\n",
      "6\n"
     ]
    }
   ],
   "source": [
    "import numpy as np\n",
    "\n",
    "arr = np.array([ [1,2,3,8],[4,5,6,7] ])\n",
    "\n",
    "for x in np.nditer(arr[:, ::2]):\n",
    "    print(x)"
   ]
  },
  {
   "cell_type": "code",
   "execution_count": 81,
   "id": "2e23ae91",
   "metadata": {},
   "outputs": [
    {
     "name": "stdout",
     "output_type": "stream",
     "text": [
      "(0,) 1\n",
      "(1,) 2\n",
      "(2,) 3\n"
     ]
    }
   ],
   "source": [
    "#parfois nous avons besoin de lindex pour effectuer notre enumeartion on va don \n",
    "import numpy as np\n",
    "\n",
    "arr = np.array([1,2,3])\n",
    "\n",
    "for idx,x in np.ndenumerate(arr):\n",
    "    print(idx,x)"
   ]
  },
  {
   "cell_type": "code",
   "execution_count": 82,
   "id": "c8cd2c92",
   "metadata": {},
   "outputs": [
    {
     "name": "stdout",
     "output_type": "stream",
     "text": [
      "(0, 0) 1\n",
      "(0, 1) 2\n",
      "(0, 2) 3\n",
      "(0, 3) 4\n",
      "(1, 0) 5\n",
      "(1, 1) 6\n",
      "(1, 2) 7\n",
      "(1, 3) 8\n"
     ]
    }
   ],
   "source": [
    "#tableau a deux dimension\n",
    "import numpy as np\n",
    "\n",
    "arr = np.array([[1, 2, 3, 4], [5, 6, 7, 8]])\n",
    "\n",
    "for idx, x in np.ndenumerate(arr):\n",
    "  print(idx, x)"
   ]
  },
  {
   "cell_type": "code",
   "execution_count": 86,
   "id": "56d1284b",
   "metadata": {},
   "outputs": [
    {
     "name": "stdout",
     "output_type": "stream",
     "text": [
      "[ 1  2  3  4  5  6  7  8  9 10]\n"
     ]
    }
   ],
   "source": [
    "#la concatenation avec les numpy\n",
    "import numpy as np\n",
    "\n",
    "arr1 = np.array([1,2,3,4,5])\n",
    "\n",
    "arr2 = np.array([6,7,8,9,10])\n",
    "\n",
    "arr3 = np.concatenate((arr1,arr2))\n",
    "print(arr3)"
   ]
  },
  {
   "cell_type": "code",
   "execution_count": 87,
   "id": "f3f9ef56",
   "metadata": {},
   "outputs": [
    {
     "name": "stdout",
     "output_type": "stream",
     "text": [
      "[[1 2 5 6]\n",
      " [3 4 7 8]]\n"
     ]
    }
   ],
   "source": [
    "#concatener un tableau a deux dimension\n",
    "import numpy as np\n",
    "arr1 = np.array([ [1,2],[3,4] ])\n",
    "arr2 = np.array([ [5,6],[7,8] ])\n",
    "\n",
    "arr3 = np.concatenate((arr1,arr2),axis=1) #pour mettre chaque premier tableau de chaque dimension entete\n",
    "\n",
    "print(arr3)"
   ]
  },
  {
   "cell_type": "code",
   "execution_count": 90,
   "id": "a70dfbe0",
   "metadata": {},
   "outputs": [
    {
     "name": "stdout",
     "output_type": "stream",
     "text": [
      "[[1 4]\n",
      " [2 5]\n",
      " [3 6]]\n"
     ]
    }
   ],
   "source": [
    "#concatenation en utilisant stack\n",
    "\n",
    "import numpy as np\n",
    "\n",
    "arr1 = np.array([1,2,3])\n",
    "arr2 = np.array([4,5,6])\n",
    "\n",
    "arr3 = np.stack((arr1,arr2),axis=1)\n",
    "print(arr3)"
   ]
  },
  {
   "cell_type": "code",
   "execution_count": 93,
   "id": "1d376bea",
   "metadata": {},
   "outputs": [
    {
     "name": "stdout",
     "output_type": "stream",
     "text": [
      "[1 2 3 4 5 6]\n"
     ]
    }
   ],
   "source": [
    "#concatenation en utilisant hstack sur une seule ligne\n",
    "\n",
    "import numpy as np\n",
    "\n",
    "arr1 = np.array([1,2,3])\n",
    "arr2 = np.array([4,5,6])\n",
    "\n",
    "arr3 = np.hstack((arr1,arr2))\n",
    "print(arr3)"
   ]
  },
  {
   "cell_type": "code",
   "execution_count": 94,
   "id": "11a6528c",
   "metadata": {},
   "outputs": [
    {
     "name": "stdout",
     "output_type": "stream",
     "text": [
      "[[1 2 3]\n",
      " [4 5 6]]\n"
     ]
    }
   ],
   "source": [
    "#Empilement le long des colonnes vstack\n",
    "\n",
    "import numpy as np\n",
    "\n",
    "arr1 = np.array([1,2,3])\n",
    "arr2 = np.array([4,5,6])\n",
    "\n",
    "arr3 = np.vstack((arr1,arr2))\n",
    "\n",
    "print(arr3)"
   ]
  },
  {
   "cell_type": "code",
   "execution_count": 95,
   "id": "8984c679",
   "metadata": {},
   "outputs": [
    {
     "name": "stdout",
     "output_type": "stream",
     "text": [
      "[[[1 4]\n",
      "  [2 5]\n",
      "  [3 6]]]\n"
     ]
    }
   ],
   "source": [
    "#Empilage le long de la hauteur (profondeur) dstack\n",
    "import numpy as np\n",
    "\n",
    "arr1 = np.array([1,2,3])\n",
    "arr2 = np.array([4,5,6])\n",
    "\n",
    "arr3 = np.dstack((arr1,arr2))\n",
    "\n",
    "print(arr3)"
   ]
  },
  {
   "cell_type": "code",
   "execution_count": 97,
   "id": "a4523d98",
   "metadata": {},
   "outputs": [
    {
     "name": "stdout",
     "output_type": "stream",
     "text": [
      "[array([[1, 2, 3, 4]]), array([[5, 6, 7, 8]]), array([], shape=(0, 4), dtype=int32)]\n"
     ]
    }
   ],
   "source": [
    "#la division donc fraction dun tableau\n",
    "import numpy as np\n",
    "\n",
    "arr1 = np.array([1,2,3,4,5,6,7,8])\n",
    "\n",
    "arr2 = np.array_split(arr,3)\n",
    "\n",
    "print(arr2)"
   ]
  },
  {
   "cell_type": "code",
   "execution_count": 98,
   "id": "24febaf5",
   "metadata": {},
   "outputs": [
    {
     "name": "stdout",
     "output_type": "stream",
     "text": [
      "[1 2]\n",
      "[3 4]\n",
      "[5 6]\n"
     ]
    }
   ],
   "source": [
    "#on peut diviser et y acceder  morceau par morceau\n",
    "\n",
    "import numpy as np\n",
    "\n",
    "arr1 = np.array([1,2,3,4,5,6])\n",
    "\n",
    "arr2=np.array_split(arr1,3)\n",
    "print(arr2[0])\n",
    "print(arr2[1])\n",
    "print(arr2[2])"
   ]
  },
  {
   "cell_type": "code",
   "execution_count": 99,
   "id": "0d11b51e",
   "metadata": {},
   "outputs": [
    {
     "name": "stdout",
     "output_type": "stream",
     "text": [
      "[array([[1, 2],\n",
      "       [3, 4],\n",
      "       [5, 6]]), array([[7, 8],\n",
      "       [9, 8]]), array([[7, 6],\n",
      "       [5, 4]])]\n"
     ]
    }
   ],
   "source": [
    "#decoupage dun tableau a deux dimension\n",
    "\n",
    "import numpy as np\n",
    "arr1 = np.array([ [1,2],[3,4],[5,6],[7,8],[9,8],[7,6],[5,4] ])\n",
    "arr2= np.array_split(arr1,3)\n",
    "print(arr2)"
   ]
  },
  {
   "cell_type": "code",
   "execution_count": 100,
   "id": "f94303d3",
   "metadata": {},
   "outputs": [
    {
     "name": "stdout",
     "output_type": "stream",
     "text": [
      "[array([[1, 2, 3],\n",
      "       [4, 5, 6]]), array([[ 7,  8,  9],\n",
      "       [10, 11, 12]]), array([[13, 14, 15],\n",
      "       [16, 17, 18]])]\n"
     ]
    }
   ],
   "source": [
    "import numpy as np\n",
    "\n",
    "arr = np.array([[1, 2, 3], [4, 5, 6], [7, 8, 9], [10, 11, 12], [13, 14, 15], [16, 17, 18]])\n",
    "\n",
    "newarr = np.array_split(arr, 3)\n",
    "\n",
    "print(newarr)"
   ]
  },
  {
   "cell_type": "code",
   "execution_count": 101,
   "id": "283314a6",
   "metadata": {},
   "outputs": [
    {
     "name": "stdout",
     "output_type": "stream",
     "text": [
      "[array([[ 1],\n",
      "       [ 4],\n",
      "       [ 7],\n",
      "       [10],\n",
      "       [13],\n",
      "       [16]]), array([[ 2],\n",
      "       [ 5],\n",
      "       [ 8],\n",
      "       [11],\n",
      "       [14],\n",
      "       [17]]), array([[ 3],\n",
      "       [ 6],\n",
      "       [ 9],\n",
      "       [12],\n",
      "       [15],\n",
      "       [18]])]\n"
     ]
    }
   ],
   "source": [
    "#on peut preciser la ligne \n",
    "import numpy as np\n",
    "\n",
    "arr = np.array([[1, 2, 3], [4, 5, 6], [7, 8, 9], [10, 11, 12], [13, 14, 15], [16, 17, 18]])\n",
    "\n",
    "newarr = np.array_split(arr, 3, axis=1)\n",
    "\n",
    "print(newarr)"
   ]
  },
  {
   "cell_type": "code",
   "execution_count": 103,
   "id": "5a88289a",
   "metadata": {},
   "outputs": [
    {
     "name": "stdout",
     "output_type": "stream",
     "text": [
      "(array([2, 5, 6], dtype=int64),)\n"
     ]
    }
   ],
   "source": [
    "#on peut recharcher des valeur avec les index a savoir\n",
    "\n",
    "import numpy as np\n",
    "\n",
    "arr = np.array([1,5,4,3,8,4,4])\n",
    "\n",
    "x = np.where(arr == 4)\n",
    "\n",
    "print(x)#Ce qui signifie que la valeur 4 est présente aux index 2, 5 et 6."
   ]
  },
  {
   "cell_type": "code",
   "execution_count": 104,
   "id": "c5981112",
   "metadata": {},
   "outputs": [
    {
     "name": "stdout",
     "output_type": "stream",
     "text": [
      "(array([0, 1, 4, 6, 7, 8], dtype=int64),)\n"
     ]
    }
   ],
   "source": [
    "#on recherhce des valeur impaire\n",
    "\n",
    "import numpy as np\n",
    "\n",
    "arr = np.array([3,5,6,4,7,8,9,5,23,14,12])\n",
    "\n",
    "arr1 = np.where(arr%2 == 1)\n",
    "print(arr1)"
   ]
  },
  {
   "cell_type": "code",
   "execution_count": 106,
   "id": "84e7d066",
   "metadata": {},
   "outputs": [
    {
     "name": "stdout",
     "output_type": "stream",
     "text": [
      "3\n"
     ]
    }
   ],
   "source": [
    "#Il existe une méthode appelée searchsorted()qui effectue une recherche binaire dans le tableau \n",
    "#et renvoie l'index où la valeur spécifiée serait insérée pour maintenir l'ordre de recherche.\n",
    "\n",
    "import numpy as np\n",
    "arr = np.array([4,5,6,7,8,9])\n",
    "x = np.searchsorted(arr,7)\n",
    "print(x)"
   ]
  },
  {
   "cell_type": "code",
   "execution_count": 107,
   "id": "678919c4",
   "metadata": {},
   "outputs": [
    {
     "name": "stdout",
     "output_type": "stream",
     "text": [
      "4\n"
     ]
    }
   ],
   "source": [
    "import numpy as np\n",
    "arr = np.array([4,5,6,7,8,9])\n",
    "x = np.searchsorted(arr,7,side=\"right\")\n",
    "print(x)"
   ]
  },
  {
   "cell_type": "code",
   "execution_count": 108,
   "id": "6e0599ff",
   "metadata": {},
   "outputs": [
    {
     "name": "stdout",
     "output_type": "stream",
     "text": [
      "[1 2 3]\n"
     ]
    }
   ],
   "source": [
    "#si on veut specifier de multiple donner\n",
    "\n",
    "import numpy as np\n",
    "\n",
    "arr = np.array([1, 3, 5, 7])\n",
    "\n",
    "x = np.searchsorted(arr,[2,4,6])\n",
    "\n",
    "print(x)"
   ]
  },
  {
   "cell_type": "code",
   "execution_count": 109,
   "id": "eb1fbc90",
   "metadata": {},
   "outputs": [
    {
     "name": "stdout",
     "output_type": "stream",
     "text": [
      "[3 5 6 8]\n"
     ]
    }
   ],
   "source": [
    "#trier les elements d'un tableau\n",
    "\n",
    "import numpy as np\n",
    "\n",
    "arr = np.array([5,3,6,8])\n",
    "\n",
    "newarr = np.sort(arr)\n",
    "print(newarr)"
   ]
  },
  {
   "cell_type": "code",
   "execution_count": 110,
   "id": "a7387440",
   "metadata": {},
   "outputs": [
    {
     "name": "stdout",
     "output_type": "stream",
     "text": [
      "['apple' 'banana' 'cherry']\n"
     ]
    }
   ],
   "source": [
    "import numpy as np\n",
    "\n",
    "arr = np.array(['banana', 'cherry', 'apple'])\n",
    "\n",
    "print(np.sort(arr))"
   ]
  },
  {
   "cell_type": "code",
   "execution_count": 112,
   "id": "53bf7956",
   "metadata": {},
   "outputs": [
    {
     "name": "stdout",
     "output_type": "stream",
     "text": [
      "[42 32]\n"
     ]
    }
   ],
   "source": [
    "#trier un element dans unn tableau \n",
    "import numpy as np\n",
    "\n",
    "arr= np.array([42,56,32,85])\n",
    "x=[True, False, True, False]\n",
    "newarr = arr[x]\n",
    "print(newarr)"
   ]
  },
  {
   "cell_type": "code",
   "execution_count": 114,
   "id": "13e81c9f",
   "metadata": {},
   "outputs": [
    {
     "name": "stdout",
     "output_type": "stream",
     "text": [
      "[False, True, False, True]\n",
      "[56 85]\n"
     ]
    }
   ],
   "source": [
    "#ici on va utiliser le tri avec condition a savoir\n",
    "import numpy as np\n",
    "arr= np.array([42,56,32,85])\n",
    "filter_arr = []\n",
    "for element in arr:\n",
    "    if element > 42 :\n",
    "        filter_arr.append(True)\n",
    "    else:\n",
    "        filter_arr.append(False)\n",
    "newarr = arr[filter_arr]\n",
    "print(filter_arr)\n",
    "print(newarr)"
   ]
  },
  {
   "cell_type": "code",
   "execution_count": 116,
   "id": "dc03940e",
   "metadata": {},
   "outputs": [
    {
     "name": "stdout",
     "output_type": "stream",
     "text": [
      "[True, True, True, False]\n",
      "[42 56 32]\n"
     ]
    }
   ],
   "source": [
    "#ON  verifie les element paire de notre tableau\n",
    "import numpy as np\n",
    "arr = np.array([42,56,32,85])\n",
    "filter_arr = []\n",
    "for element in arr:\n",
    "    if element % 2 == 0:\n",
    "        filter_arr.append(True)\n",
    "    else:\n",
    "        filter_arr.append(False)\n",
    "result = arr[filter_arr]\n",
    "print(filter_arr)\n",
    "print(result)"
   ]
  },
  {
   "cell_type": "code",
   "execution_count": 118,
   "id": "c0d974db",
   "metadata": {},
   "outputs": [
    {
     "name": "stdout",
     "output_type": "stream",
     "text": [
      "[6 5 7 8]\n"
     ]
    }
   ],
   "source": [
    "#sans utiliser les condition maintenant on aura\n",
    "import numpy as np\n",
    "arr = np.array([1,3,2,6,5,7,8])\n",
    "filter_arr = arr > 3\n",
    "result = arr[filter_arr]\n",
    "print(result)"
   ]
  },
  {
   "cell_type": "code",
   "execution_count": 119,
   "id": "142348a1",
   "metadata": {},
   "outputs": [
    {
     "name": "stdout",
     "output_type": "stream",
     "text": [
      "[2 6 8]\n"
     ]
    }
   ],
   "source": [
    "import numpy as np\n",
    "arr = np.array([1,3,2,6,5,7,8])\n",
    "filter_arr = arr % 2 == 0\n",
    "result = arr[filter_arr]\n",
    "print(result)"
   ]
  },
  {
   "cell_type": "code",
   "execution_count": null,
   "id": "d37bdd56",
   "metadata": {},
   "outputs": [],
   "source": []
  }
 ],
 "metadata": {
  "kernelspec": {
   "display_name": "Python 3 (ipykernel)",
   "language": "python",
   "name": "python3"
  },
  "language_info": {
   "codemirror_mode": {
    "name": "ipython",
    "version": 3
   },
   "file_extension": ".py",
   "mimetype": "text/x-python",
   "name": "python",
   "nbconvert_exporter": "python",
   "pygments_lexer": "ipython3",
   "version": "3.11.5"
  }
 },
 "nbformat": 4,
 "nbformat_minor": 5
}
