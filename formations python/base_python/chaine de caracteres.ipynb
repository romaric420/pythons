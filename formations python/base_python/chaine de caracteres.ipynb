{
 "cells": [
  {
   "cell_type": "code",
   "execution_count": 1,
   "id": "0ddfbb9b",
   "metadata": {},
   "outputs": [
    {
     "name": "stdout",
     "output_type": "stream",
     "text": [
      "bonjour\n"
     ]
    }
   ],
   "source": [
    "#ici on voit les chaines de caracteres\n",
    "chaine = \"bonjour\"\n",
    "print(chaine)"
   ]
  },
  {
   "cell_type": "code",
   "execution_count": 2,
   "id": "6ce6912d",
   "metadata": {},
   "outputs": [
    {
     "name": "stdout",
     "output_type": "stream",
     "text": [
      "bonjour le monde comment se passe l'univers d'aujoud'hui?\n"
     ]
    }
   ],
   "source": [
    "chaine = \"bonjour le monde comment se passe l'univers d'aujoud'hui?\"\n",
    "print(chaine)"
   ]
  },
  {
   "cell_type": "code",
   "execution_count": 4,
   "id": "b693ab91",
   "metadata": {},
   "outputs": [
    {
     "name": "stdout",
     "output_type": "stream",
     "text": [
      "bonjour le monde comment\n",
      " se passe l'univers d'aujoud'hui?\n"
     ]
    }
   ],
   "source": [
    "chaine = \"bonjour le monde comment\\n se passe l'univers d'aujoud'hui?\"\n",
    "print(chaine)"
   ]
  },
  {
   "cell_type": "code",
   "execution_count": 5,
   "id": "3bcb6a58",
   "metadata": {},
   "outputs": [
    {
     "name": "stdout",
     "output_type": "stream",
     "text": [
      "bonjour le monde comment\t se passe l'univers d'aujoud'hui?\n"
     ]
    }
   ],
   "source": [
    "chaine = \"bonjour le monde comment\\t se passe l'univers d'aujoud'hui?\"\n",
    "print(chaine)"
   ]
  },
  {
   "cell_type": "code",
   "execution_count": 6,
   "id": "64505b81",
   "metadata": {},
   "outputs": [
    {
     "name": "stdout",
     "output_type": "stream",
     "text": [
      "bonjour le monde commentse passe l'univers d'aujoud'hui?,\n",
      "bonjour romaric comment se passe ton apprentissage en python?,\n",
      "bonjour willy tu es sure de bien utiliser les methodes demandes pour la programmation en python\n"
     ]
    }
   ],
   "source": [
    "chaine = \"\"\"bonjour le monde commentse passe l'univers d'aujoud'hui?,\n",
    "bonjour romaric comment se passe ton apprentissage en python?,\n",
    "bonjour willy tu es sure de bien utiliser les methodes demandes pour la programmation en python\"\"\"\n",
    "print(chaine)"
   ]
  },
  {
   "cell_type": "code",
   "execution_count": 8,
   "id": "3801fe64",
   "metadata": {},
   "outputs": [
    {
     "name": "stdout",
     "output_type": "stream",
     "text": [
      "onjour le monde comment se passe l'univers d'aujoud'hui?\n"
     ]
    }
   ],
   "source": [
    "chaine = \"bonjour le monde comment se passe l'univers d'aujoud'hui?\"\n",
    "print(chaine[1:])"
   ]
  },
  {
   "cell_type": "code",
   "execution_count": 9,
   "id": "9e91f79a",
   "metadata": {},
   "outputs": [
    {
     "name": "stdout",
     "output_type": "stream",
     "text": [
      "b\n",
      "o\n",
      "n\n",
      "j\n",
      "o\n",
      "u\n",
      "r\n",
      " \n",
      "l\n",
      "e\n",
      " \n",
      "m\n",
      "o\n",
      "n\n",
      "d\n",
      "e\n",
      " \n",
      "c\n",
      "o\n",
      "m\n",
      "m\n",
      "e\n",
      "n\n",
      "t\n",
      " \n",
      "s\n",
      "e\n",
      " \n",
      "p\n",
      "a\n",
      "s\n",
      "s\n",
      "e\n",
      " \n",
      "l\n",
      "'\n",
      "u\n",
      "n\n",
      "i\n",
      "v\n",
      "e\n",
      "r\n",
      "s\n",
      " \n",
      "d\n",
      "'\n",
      "a\n",
      "u\n",
      "j\n",
      "o\n",
      "u\n",
      "d\n",
      "'\n",
      "h\n",
      "u\n",
      "i\n",
      "?\n"
     ]
    }
   ],
   "source": [
    "#ici on parcoure notre chaine \n",
    "chaine = \"bonjour le monde comment se passe l'univers d'aujoud'hui?\"\n",
    "for x in chaine:\n",
    "    print(x)"
   ]
  },
  {
   "cell_type": "code",
   "execution_count": 10,
   "id": "9868ca45",
   "metadata": {},
   "outputs": [
    {
     "name": "stdout",
     "output_type": "stream",
     "text": [
      "57\n"
     ]
    }
   ],
   "source": [
    "#pour compter les caracteres element de notre chaine\n",
    "chaine = \"bonjour le monde comment se passe l'univers d'aujoud'hui?\"\n",
    "print(len(chaine))"
   ]
  },
  {
   "cell_type": "code",
   "execution_count": 12,
   "id": "67dbc9e5",
   "metadata": {},
   "outputs": [
    {
     "name": "stdout",
     "output_type": "stream",
     "text": [
      "True\n"
     ]
    }
   ],
   "source": [
    "#verifie si un element existe dans la chaine\n",
    "chaine = \"bonjour le monde comment se passe l'univers d'aujoud'hui?\"\n",
    "print(\"mon\" in chaine)"
   ]
  },
  {
   "cell_type": "code",
   "execution_count": 13,
   "id": "89fe7807",
   "metadata": {},
   "outputs": [
    {
     "name": "stdout",
     "output_type": "stream",
     "text": [
      "oui il existe\n"
     ]
    }
   ],
   "source": [
    "#utiliser if sur la chaine\n",
    "chaine = \"bonjour le monde comment se passe l'univers d'aujoud'hui?\"\n",
    "if (\"monde\" in chaine):\n",
    "    print(\"oui il existe\")\n",
    "else:print(\"desoler il n'existe pas\")"
   ]
  },
  {
   "cell_type": "code",
   "execution_count": 15,
   "id": "f5e1bce1",
   "metadata": {},
   "outputs": [
    {
     "name": "stdout",
     "output_type": "stream",
     "text": [
      "oui il existe \n"
     ]
    }
   ],
   "source": [
    "#utiliser if sur la chaine\n",
    "chaine = \"bonjour le monde comment se passe l'univers d'aujoud'hui?\"\n",
    "if (\"monde\" not in chaine):\n",
    "    print(\"oui il n'existe\")\n",
    "else:print(\"oui il existe \")"
   ]
  },
  {
   "cell_type": "code",
   "execution_count": 22,
   "id": "37837f7c",
   "metadata": {},
   "outputs": [
    {
     "name": "stdout",
     "output_type": "stream",
     "text": [
      "Hello,\n"
     ]
    }
   ],
   "source": [
    "#trancher les chaines\n",
    "b = \"Hello, World!\"\n",
    "print(b[:6])"
   ]
  },
  {
   "cell_type": "code",
   "execution_count": 28,
   "id": "f40e86bf",
   "metadata": {},
   "outputs": [
    {
     "name": "stdout",
     "output_type": "stream",
     "text": [
      ", World\n"
     ]
    }
   ],
   "source": [
    "#en utilisant les index negatif\n",
    "b = \"Hello, World!\"\n",
    "print(b[-8:-1])"
   ]
  },
  {
   "cell_type": "code",
   "execution_count": 29,
   "id": "ce5776f3",
   "metadata": {},
   "outputs": [
    {
     "name": "stdout",
     "output_type": "stream",
     "text": [
      "HELLO, WORLD!\n"
     ]
    }
   ],
   "source": [
    "#pour la modification des chaines\n",
    "b = \"Hello, World!\"\n",
    "print(b.upper())"
   ]
  },
  {
   "cell_type": "code",
   "execution_count": 32,
   "id": "e0018e2b",
   "metadata": {},
   "outputs": [
    {
     "name": "stdout",
     "output_type": "stream",
     "text": [
      "Hello, world!\n"
     ]
    }
   ],
   "source": [
    "b = \"Hello, World!\"\n",
    "print(b.capitalize())"
   ]
  },
  {
   "cell_type": "code",
   "execution_count": 33,
   "id": "6fcde289",
   "metadata": {},
   "outputs": [
    {
     "name": "stdout",
     "output_type": "stream",
     "text": [
      "Hello, World!\n"
     ]
    }
   ],
   "source": [
    "#strip permet denlever les espaces a la fin et au debut\n",
    "a = \" Hello, World! \"\n",
    "print(a.strip()) "
   ]
  },
  {
   "cell_type": "code",
   "execution_count": 34,
   "id": "9e4f1781",
   "metadata": {},
   "outputs": [
    {
     "name": "stdout",
     "output_type": "stream",
     "text": [
      "hey romaric how are you, World!\n"
     ]
    }
   ],
   "source": [
    "#permet de modifier une lettre pr une autre\n",
    "a = \"Hello, World!\"\n",
    "print(a.replace(\"Hello\", \"hey romaric how are you\"))"
   ]
  },
  {
   "cell_type": "code",
   "execution_count": 38,
   "id": "c8873ce9",
   "metadata": {},
   "outputs": [
    {
     "name": "stdout",
     "output_type": "stream",
     "text": [
      "['Hello', ' World!', 'how are', ' you today']\n",
      "<class 'list'>\n"
     ]
    }
   ],
   "source": [
    "#split permet de diviser une chaine en sous chaine quand elle trouve un instence sparateurs\n",
    "a = \"Hello, World!,how are, you today\"\n",
    "b =a.split(\",\")\n",
    "print(b)\n",
    "print(type(b)) # returns ['Hello', ' World!']"
   ]
  },
  {
   "cell_type": "code",
   "execution_count": 42,
   "id": "eacc084d",
   "metadata": {},
   "outputs": [
    {
     "name": "stdout",
     "output_type": "stream",
     "text": [
      "bonjour   le monde\n"
     ]
    }
   ],
   "source": [
    "#Concaténation de chaînes\n",
    "a=\"bonjour\"\n",
    "b=\"le monde\"\n",
    "print(a,\" \",b)"
   ]
  },
  {
   "cell_type": "code",
   "execution_count": 2,
   "id": "e456c0ef",
   "metadata": {},
   "outputs": [
    {
     "name": "stdout",
     "output_type": "stream",
     "text": [
      "My name is John, I am 36\n"
     ]
    }
   ],
   "source": [
    "age = 36\n",
    "txt = \"My name is John, I am {}\" \n",
    "print(txt.format(age))"
   ]
  },
  {
   "cell_type": "code",
   "execution_count": 3,
   "id": "58dab031",
   "metadata": {},
   "outputs": [
    {
     "name": "stdout",
     "output_type": "stream",
     "text": [
      "I want 49.95 pieces of item 567 for 3 dollars.\n"
     ]
    }
   ],
   "source": [
    "quantity = 3\n",
    "itemno = 567\n",
    "price = 49.95\n",
    "myorder = \"I want {} pieces of item {} for {} dollars.\"\n",
    "print(myorder.format(quantity, itemno, price))"
   ]
  },
  {
   "cell_type": "code",
   "execution_count": 13,
   "id": "01c8468c",
   "metadata": {},
   "outputs": [
    {
     "name": "stdout",
     "output_type": "stream",
     "text": [
      "[4, 8, 12, 16]\n"
     ]
    }
   ],
   "source": [
    "nombre = [2, 4, 6, 8]\n",
    "def double(x):\n",
    "    return x*2\n",
    "resultat = map(double,nombre)\n",
    "resultat_list=list(resultat)\n",
    "print(resultat_list)"
   ]
  },
  {
   "cell_type": "code",
   "execution_count": null,
   "id": "d2cddf34",
   "metadata": {},
   "outputs": [],
   "source": []
  }
 ],
 "metadata": {
  "kernelspec": {
   "display_name": "Python 3 (ipykernel)",
   "language": "python",
   "name": "python3"
  },
  "language_info": {
   "codemirror_mode": {
    "name": "ipython",
    "version": 3
   },
   "file_extension": ".py",
   "mimetype": "text/x-python",
   "name": "python",
   "nbconvert_exporter": "python",
   "pygments_lexer": "ipython3",
   "version": "3.11.5"
  }
 },
 "nbformat": 4,
 "nbformat_minor": 5
}
