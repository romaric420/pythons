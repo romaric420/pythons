{
 "cells": [
  {
   "cell_type": "code",
   "execution_count": 10,
   "id": "4b16b071",
   "metadata": {},
   "outputs": [
    {
     "name": "stdout",
     "output_type": "stream",
     "text": [
      "bonjour mon Nom est  sambo et mon Prenom est bernard et j'ai 54 ans.\n"
     ]
    }
   ],
   "source": [
    "class Personne:\n",
    "    def __init__(self,nom,prenom,age):\n",
    "        self.nom = nom\n",
    "        self.prenom = prenom\n",
    "        self.age = age\n",
    "        \n",
    "    def presentation(self):\n",
    "        return f\"bonjour mon Nom est  {self.nom} et mon Prenom est {self.prenom} et j'ai {self.age} ans.\"\n",
    "    \n",
    "    def bonjour(self):\n",
    "        return f\"bonjour mon tres chere ami {self.nom}\"\n",
    "\n",
    "    \n",
    "    \n",
    "    \n",
    "class Papa(Personne):\n",
    "    def __init__(self,nom,prenom,age,sexe):\n",
    "        super().__init__(nom,prenom,age)\n",
    "        self.sexe = sexe\n",
    "        \n",
    "        def  presentation(self):\n",
    "            return super().presentation() + f\" et je suis de sexe {self.sexe}\"\n",
    "\n",
    "pere1 = Papa(\"sambo\",\"bernard\",54,\"masculin\")\n",
    "\n",
    "print(pere1.presentation())"
   ]
  },
  {
   "cell_type": "code",
   "execution_count": 5,
   "id": "0c451ca6",
   "metadata": {},
   "outputs": [
    {
     "name": "stdout",
     "output_type": "stream",
     "text": [
      "bonjour mon nom est sambo et mon preno est bernard et j'ai 54.anset je suis de sexe masculin\n"
     ]
    }
   ],
   "source": [
    "class Personne:\n",
    "    \n",
    "    def __init__(self,nom,prenom,age):\n",
    "        self.nom = nom\n",
    "        self.prenom = prenom\n",
    "        self.age = age\n",
    "        \n",
    "    def presentation(self):\n",
    "        return f\"bonjour mon nom est {self.nom} et mon prenom est {self.prenom} et j'ai {self.age}.ans\"\n",
    "    \n",
    "class homme(Personne):\n",
    "    def __init__(self,nom,prenom,age,sexe):\n",
    "        super().__init__(nom,prenom,age)\n",
    "        self.sexe = sexe\n",
    "    \n",
    "    def presentation(self):\n",
    "       return super().presentation() + f\"et je suis de sexe {self.sexe}\"\n",
    "    \n",
    "homme1 = homme(\"sambo\",\"bernard\",54,\"masculin\")\n",
    "\n",
    "print(homme1.presentation()) "
   ]
  },
  {
   "cell_type": "code",
   "execution_count": null,
   "id": "f4fa8510",
   "metadata": {},
   "outputs": [],
   "source": []
  }
 ],
 "metadata": {
  "kernelspec": {
   "display_name": "Python 3 (ipykernel)",
   "language": "python",
   "name": "python3"
  },
  "language_info": {
   "codemirror_mode": {
    "name": "ipython",
    "version": 3
   },
   "file_extension": ".py",
   "mimetype": "text/x-python",
   "name": "python",
   "nbconvert_exporter": "python",
   "pygments_lexer": "ipython3",
   "version": "3.11.5"
  }
 },
 "nbformat": 4,
 "nbformat_minor": 5
}
