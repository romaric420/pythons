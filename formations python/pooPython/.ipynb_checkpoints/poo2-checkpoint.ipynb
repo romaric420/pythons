{
 "cells": [
  {
   "cell_type": "code",
   "execution_count": 14,
   "id": "cc7c5be3",
   "metadata": {},
   "outputs": [
    {
     "name": "stdout",
     "output_type": "stream",
     "text": [
      "2\n"
     ]
    }
   ],
   "source": [
    "class BasketballTeam:  \n",
    "    fine_amount = 50000\n",
    "    numbers_team = 0\n",
    "    \n",
    "    def __init__(self,name,wins,losses):\n",
    "        self.name = name\n",
    "        self.wins = wins\n",
    "        self.losses = losses\n",
    "        self.total_fines = 0\n",
    "        \n",
    "        BasketballTeam.numbers_team += 1\n",
    "        \n",
    "    def get_fined(self):\n",
    "        self.total_fines += self.fine_amount\n",
    "            \n",
    "    def stats(self):\n",
    "        return f\"[Basketball] Stats: {self.name} : {self.wins} victoires - {self.losses} defaites.\"\n",
    "        \n",
    "    @classmethod\n",
    "    def set_fine_amount(cls,amount):\n",
    "        cls.fine_amount = amount\n",
    "        \n",
    "        \n",
    "team1 = BasketballTeam(\"golden state warrios\",12,39)\n",
    "team2 = BasketballTeam(\"Los Angeles Lakers\",40,10)\n",
    "\n",
    "print(BasketballTeam.numbers_team)\n"
   ]
  },
  {
   "cell_type": "code",
   "execution_count": null,
   "id": "3b554d87",
   "metadata": {},
   "outputs": [],
   "source": []
  }
 ],
 "metadata": {
  "kernelspec": {
   "display_name": "Python 3 (ipykernel)",
   "language": "python",
   "name": "python3"
  },
  "language_info": {
   "codemirror_mode": {
    "name": "ipython",
    "version": 3
   },
   "file_extension": ".py",
   "mimetype": "text/x-python",
   "name": "python",
   "nbconvert_exporter": "python",
   "pygments_lexer": "ipython3",
   "version": "3.11.5"
  }
 },
 "nbformat": 4,
 "nbformat_minor": 5
}
