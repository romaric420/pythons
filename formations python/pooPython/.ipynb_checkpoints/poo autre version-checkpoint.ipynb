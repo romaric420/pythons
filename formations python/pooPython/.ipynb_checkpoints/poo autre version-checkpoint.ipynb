{
 "cells": [
  {
   "cell_type": "code",
   "execution_count": 6,
   "id": "7857e8b2",
   "metadata": {},
   "outputs": [
    {
     "name": "stdout",
     "output_type": "stream",
     "text": [
      "Lamborghini\n",
      "Lamborghini\n",
      "porshe\n",
      "porshe\n"
     ]
    }
   ],
   "source": [
    "class Voiture:\n",
    "    Marque = \"Lamborghini\"\n",
    "    couleur = \"rouge\"\n",
    "voiture1 = Voiture()\n",
    "voiture2 = Voiture()\n",
    "\n",
    "print(voiture1.Marque)\n",
    "print(voiture2.Marque)\n",
    "\n",
    "Voiture.Marque = \"porshe\"\n",
    "\n",
    "print(voiture1.Marque)\n",
    "print(voiture2.Marque)"
   ]
  },
  {
   "cell_type": "code",
   "execution_count": null,
   "id": "7d7f599c",
   "metadata": {},
   "outputs": [],
   "source": []
  }
 ],
 "metadata": {
  "kernelspec": {
   "display_name": "Python 3 (ipykernel)",
   "language": "python",
   "name": "python3"
  },
  "language_info": {
   "codemirror_mode": {
    "name": "ipython",
    "version": 3
   },
   "file_extension": ".py",
   "mimetype": "text/x-python",
   "name": "python",
   "nbconvert_exporter": "python",
   "pygments_lexer": "ipython3",
   "version": "3.11.5"
  }
 },
 "nbformat": 4,
 "nbformat_minor": 5
}
