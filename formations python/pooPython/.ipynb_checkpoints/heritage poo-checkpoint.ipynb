{
 "cells": [
  {
   "cell_type": "code",
   "execution_count": 9,
   "id": "61a28bdc",
   "metadata": {},
   "outputs": [
    {
     "name": "stdout",
     "output_type": "stream",
     "text": [
      "bonjour je m'appelle sambo et mon prenom est bernard et j'ai 54 ans.\n"
     ]
    }
   ],
   "source": [
    "class Personne:\n",
    "    def __init__(self,nom,prenom,age):\n",
    "        self.nom = nom\n",
    "        self.prenom = prenom\n",
    "        self.age = age\n",
    "        \n",
    "    def presentation(self):\n",
    "        return f\"bonjour mon Nom est  {self.nom} et mon Prenom est {self.prenom} et j'ai {self.age} ans.\"\n",
    "    \n",
    "    def bonjour(self):\n",
    "        return f\"bonjour mon tres chere ami {self.nom}\"\n",
    "\n",
    "    \n",
    "    \n",
    "    \n",
    "class Papa(Personne):\n",
    "    def __init__(self,nom,prenom,age,sexe):\n",
    "        super().__init__(nom,prenom,age)\n",
    "        self.sexe = sexe\n",
    "        \n",
    "        def  presentation(self):\n",
    "            return super().presentation() + f\" et je suis de sexe {self.sexe}\"\n",
    "\n",
    "pere1 = Papa(\"sambo\",\"bernard\",54,\"masculin\")\n",
    "\n",
    "print(pere1.presentation())"
   ]
  },
  {
   "cell_type": "code",
   "execution_count": null,
   "id": "d9289e16",
   "metadata": {},
   "outputs": [],
   "source": []
  }
 ],
 "metadata": {
  "kernelspec": {
   "display_name": "Python 3 (ipykernel)",
   "language": "python",
   "name": "python3"
  },
  "language_info": {
   "codemirror_mode": {
    "name": "ipython",
    "version": 3
   },
   "file_extension": ".py",
   "mimetype": "text/x-python",
   "name": "python",
   "nbconvert_exporter": "python",
   "pygments_lexer": "ipython3",
   "version": "3.11.5"
  }
 },
 "nbformat": 4,
 "nbformat_minor": 5
}
