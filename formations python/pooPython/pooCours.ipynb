{
 "cells": [
  {
   "cell_type": "code",
   "execution_count": 4,
   "id": "408d6203",
   "metadata": {},
   "outputs": [
    {
     "name": "stdout",
     "output_type": "stream",
     "text": [
      "golden state warrios\n",
      "Los Angeles Lakers\n"
     ]
    }
   ],
   "source": [
    "\n",
    "class EquipeBasketball:\n",
    "    pass\n",
    "\n",
    "Team_1 = EquipeBasketball()\n",
    "Team_1.name =\"golden state warrios\"\n",
    "Team_1.wins = 12\n",
    "Team_1.losses = 39\n",
    "Team_2 = EquipeBasketball()\n",
    "Team_2.name =\"Los Angeles Lakers\"\n",
    "Team_2.wins = 40\n",
    "Team_2.losses = 10\n",
    "\n",
    "print(Team_1.name)\n",
    "print(Team_2.name)"
   ]
  },
  {
   "cell_type": "code",
   "execution_count": 9,
   "id": "ad6b2f65",
   "metadata": {},
   "outputs": [
    {
     "name": "stdout",
     "output_type": "stream",
     "text": [
      "[Basketball] Stats: golden state warrios : 12 victoires - 39 defaites.\n",
      "[Basketball] Stats: golden state warrios : 12 victoires - 39 defaites.\n"
     ]
    }
   ],
   "source": [
    "class EquipeBasketball:\n",
    "    def __init__(self,name,wins,losses):\n",
    "        self.name = name\n",
    "        self.wins = wins\n",
    "        self.losses = losses\n",
    "    def stats(self):\n",
    "        return f\"[Basketball] Stats: {self.name} : {self.wins} victoires - {self.losses} defaites.\"\n",
    "        \n",
    "team1 = EquipeBasketball(\"golden state warrios\",12,39)\n",
    "team2 = EquipeBasketball(\"Los Angeles Lakers\",40,10)\n",
    "\n",
    "print(team1.stats())\n",
    "print(EquipeBasketball.stats(team1))"
   ]
  },
  {
   "cell_type": "code",
   "execution_count": 14,
   "id": "f0cf4447",
   "metadata": {},
   "outputs": [
    {
     "name": "stdout",
     "output_type": "stream",
     "text": [
      "bonjour la famille je m'appelle tchoffo et mon prenom est romaric et mon age est 23 ans\n"
     ]
    }
   ],
   "source": [
    "class Personne:\n",
    "    def __init__(self,nom,prenom,age):\n",
    "        self.nom = nom\n",
    "        self.prenom = prenom\n",
    "        self.age = age\n",
    "        \n",
    "    def presentation(self):\n",
    "        return f\"bonjour la famille je m'appelle {self.nom} et mon prenom est {self.prenom} et mon age est {self.age} ans\"\n",
    "    \n",
    "personne1 = Personne(\"tchoffo\",\"romaric\",23)\n",
    "personne2 = Personne(\"sambo\",\"hippolyte\",22)\n",
    "\n",
    "print(personne1.presentation())"
   ]
  },
  {
   "cell_type": "code",
   "execution_count": null,
   "id": "20c71182",
   "metadata": {},
   "outputs": [],
   "source": []
  },
  {
   "cell_type": "code",
   "execution_count": null,
   "id": "16bd68df",
   "metadata": {},
   "outputs": [],
   "source": []
  }
 ],
 "metadata": {
  "kernelspec": {
   "display_name": "Python 3 (ipykernel)",
   "language": "python",
   "name": "python3"
  },
  "language_info": {
   "codemirror_mode": {
    "name": "ipython",
    "version": 3
   },
   "file_extension": ".py",
   "mimetype": "text/x-python",
   "name": "python",
   "nbconvert_exporter": "python",
   "pygments_lexer": "ipython3",
   "version": "3.11.5"
  }
 },
 "nbformat": 4,
 "nbformat_minor": 5
}
