{
 "cells": [
  {
   "cell_type": "code",
   "execution_count": 7,
   "id": "1362fb58",
   "metadata": {},
   "outputs": [
    {
     "name": "stdout",
     "output_type": "stream",
     "text": [
      "Hello! Welcome to demofile.txt\n",
      "This file is for testing purposes.\n",
      "Good Luck!\n"
     ]
    }
   ],
   "source": [
    "#ici on utilise la fonction open pour ouvrir un fichier on va utiliser read pour le lire\n",
    "fichierAouvrir = open(\"file.txt\")\n",
    "print(fichierAouvrir.read())"
   ]
  },
  {
   "cell_type": "markdown",
   "id": "3113b98e",
   "metadata": {},
   "source": [
    "## modification\n",
    "\n",
    "\"r\"- Lire - Valeur par défaut. Ouvre un fichier en lecture, erreur si le fichier n'existe pas\n",
    "\n",
    "\"a\"- Ajouter - Ouvre un fichier à ajouter, crée le fichier s'il n'existe pas\n",
    "\n",
    "\"w\"- Ecrire - Ouvre un fichier en écriture, crée le fichier s'il n'existe pas\n",
    "\n",
    "\"x\"- Créer - Crée le fichier spécifié, renvoie une erreur si le fichier existe\n"
   ]
  },
  {
   "cell_type": "code",
   "execution_count": 20,
   "id": "09d14e8f",
   "metadata": {},
   "outputs": [
    {
     "name": "stdout",
     "output_type": "stream",
     "text": [
      "0-)python\n",
      "1-)numpy:numerical python\n",
      "2-)penda python\n",
      "3-)matplotlib python\n",
      "4-)machine learning\n"
     ]
    }
   ],
   "source": [
    "f = open(\"C:\\\\Users\\ROMARIC\\Desktop\\etape.txt\",\"r\")\n",
    "print(f.read())\n",
    "f.close()"
   ]
  },
  {
   "cell_type": "code",
   "execution_count": 23,
   "id": "494d5ba2",
   "metadata": {},
   "outputs": [
    {
     "name": "stdout",
     "output_type": "stream",
     "text": [
      "Hello! Welcome to demofile.txt\n",
      "This file is for testing purposes.\n",
      "Good Luck!Now the file has more content!\n"
     ]
    }
   ],
   "source": [
    "#pour ecrire dans un fichier\n",
    "f = open(\"file.txt\", \"a\")\n",
    "f.write(\"Now the file has more content!\")\n",
    "f.close()\n",
    "\n",
    "#open and read the file after the appending:\n",
    "f = open(\"file.txt\", \"r\")\n",
    "print(f.read())"
   ]
  },
  {
   "cell_type": "code",
   "execution_count": 24,
   "id": "34893c7e",
   "metadata": {},
   "outputs": [],
   "source": [
    "f = open(\"file2.txt\",\"x\")\n"
   ]
  },
  {
   "cell_type": "code",
   "execution_count": 25,
   "id": "f24fb92e",
   "metadata": {},
   "outputs": [],
   "source": [
    "f = open(\"file2.txt\",\"a\")\n",
    "f.write(\"bonjour romaric\")\n",
    "f.close()"
   ]
  },
  {
   "cell_type": "code",
   "execution_count": 26,
   "id": "c8012a5e",
   "metadata": {},
   "outputs": [
    {
     "name": "stdout",
     "output_type": "stream",
     "text": [
      "bonjour romaric\n"
     ]
    }
   ],
   "source": [
    "f = open(\"file2.txt\",\"r\")\n",
    "print(f.read())"
   ]
  },
  {
   "cell_type": "markdown",
   "id": "0dcf1762",
   "metadata": {},
   "source": [
    "# suppression des fichier \n"
   ]
  },
  {
   "cell_type": "code",
   "execution_count": 30,
   "id": "4963f1b4",
   "metadata": {},
   "outputs": [],
   "source": [
    "import os"
   ]
  },
  {
   "cell_type": "code",
   "execution_count": 33,
   "id": "f8ffbf03",
   "metadata": {},
   "outputs": [],
   "source": [
    "f = open(\"file3.txt\",\"x\")"
   ]
  },
  {
   "cell_type": "code",
   "execution_count": 35,
   "id": "ec519a8a",
   "metadata": {},
   "outputs": [],
   "source": [
    "f.close()"
   ]
  },
  {
   "cell_type": "code",
   "execution_count": 36,
   "id": "38d1b814",
   "metadata": {},
   "outputs": [],
   "source": [
    "os.remove(\"file3.txt\")"
   ]
  },
  {
   "cell_type": "markdown",
   "id": "24a348d8",
   "metadata": {},
   "source": [
    "## avant de supprimer on verifie si le fichier existe d'abord\n"
   ]
  },
  {
   "cell_type": "code",
   "execution_count": 37,
   "id": "24758851",
   "metadata": {},
   "outputs": [
    {
     "name": "stdout",
     "output_type": "stream",
     "text": [
      "The file does not exist\n"
     ]
    }
   ],
   "source": [
    "if os.path.exists(\"file3.txt\"):\n",
    "    os.remove(\"file3.txt\")\n",
    "else:\n",
    "    print(\"The file does not exist\")"
   ]
  },
  {
   "cell_type": "code",
   "execution_count": 38,
   "id": "ce47fce0",
   "metadata": {},
   "outputs": [],
   "source": [
    "#ici cest pour creer un dossier\n",
    "os.mkdir(\"folder3\")"
   ]
  },
  {
   "cell_type": "code",
   "execution_count": 39,
   "id": "b94428e0",
   "metadata": {},
   "outputs": [],
   "source": [
    "#pour supprimer un dossier\n",
    "os.rmdir(\"folder3\")"
   ]
  },
  {
   "cell_type": "code",
   "execution_count": null,
   "id": "9ea35c07",
   "metadata": {},
   "outputs": [],
   "source": []
  }
 ],
 "metadata": {
  "kernelspec": {
   "display_name": "Python 3 (ipykernel)",
   "language": "python",
   "name": "python3"
  },
  "language_info": {
   "codemirror_mode": {
    "name": "ipython",
    "version": 3
   },
   "file_extension": ".py",
   "mimetype": "text/x-python",
   "name": "python",
   "nbconvert_exporter": "python",
   "pygments_lexer": "ipython3",
   "version": "3.11.5"
  }
 },
 "nbformat": 4,
 "nbformat_minor": 5
}
