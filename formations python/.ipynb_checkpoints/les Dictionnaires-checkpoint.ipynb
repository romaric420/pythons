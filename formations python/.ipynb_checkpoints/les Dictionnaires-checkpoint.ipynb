{
 "cells": [
  {
   "cell_type": "code",
   "execution_count": 2,
   "id": "5478f4a5",
   "metadata": {},
   "outputs": [
    {
     "name": "stdout",
     "output_type": "stream",
     "text": [
      "tchoffo\n"
     ]
    }
   ],
   "source": [
    "thisdict = {\n",
    "    \"name\":\"tchoffo\",\n",
    "    \"prenom\":\"romaric\",\n",
    "      \"year\": 1964  \n",
    "}\n",
    "print(thisdict[\"name\"])"
   ]
  },
  {
   "cell_type": "code",
   "execution_count": 4,
   "id": "ffd2e173",
   "metadata": {},
   "outputs": [
    {
     "name": "stdout",
     "output_type": "stream",
     "text": [
      "{'brand': 'Ford', 'model': 'Mustang', 'year': 2020}\n",
      "3\n"
     ]
    }
   ],
   "source": [
    "#naccepte as les doublons\n",
    "thisdict = {\n",
    "  \"brand\": \"Ford\",\n",
    "  \"model\": \"Mustang\",\n",
    "  \"year\": 1964,\n",
    "  \"year\": 2020\n",
    "}\n",
    "print(thisdict)\n",
    "print(len(thisdict))"
   ]
  },
  {
   "cell_type": "code",
   "execution_count": 5,
   "id": "0ba1f8d2",
   "metadata": {},
   "outputs": [
    {
     "name": "stdout",
     "output_type": "stream",
     "text": [
      "{'name': 'John', 'age': 36, 'country': 'Norway'}\n"
     ]
    }
   ],
   "source": [
    "#on utilise la methode dic pour creer aussi un disctionnaire\n",
    "thisdict = dict(name = \"John\", age = 36, country = \"Norway\")\n",
    "print(thisdict)"
   ]
  },
  {
   "cell_type": "code",
   "execution_count": 9,
   "id": "598c2c95",
   "metadata": {},
   "outputs": [
    {
     "name": "stdout",
     "output_type": "stream",
     "text": [
      "36\n",
      "John\n"
     ]
    }
   ],
   "source": [
    "#on peut egalement utiliser get pour acceder a un element\n",
    "thisdict = dict(name = \"John\", age = 36, country = \"Norway\")\n",
    "x = thisdict.get(\"age\")\n",
    "print(x)\n",
    "print(thisdict[\"name\"])"
   ]
  },
  {
   "cell_type": "code",
   "execution_count": 12,
   "id": "f4e5c21d",
   "metadata": {},
   "outputs": [
    {
     "name": "stdout",
     "output_type": "stream",
     "text": [
      "dict_keys(['brand', 'model', 'year'])\n",
      "dict_values(['Ford', 'Mustang', 1964])\n",
      "dict_keys(['brand', 'model', 'year', 'color'])\n"
     ]
    }
   ],
   "source": [
    "#acceder a un element grace au cle\n",
    "car = {\n",
    "\"brand\": \"Ford\",\n",
    "\"model\": \"Mustang\",\n",
    "\"year\": 1964\n",
    "}\n",
    "\n",
    "x = car.keys()\n",
    "y = car.values()\n",
    "\n",
    "print(x) #before the change\n",
    "print(y)\n",
    "\n",
    "car[\"color\"] = \"white\"\n",
    "\n",
    "print(x) #after the change"
   ]
  },
  {
   "cell_type": "code",
   "execution_count": 14,
   "id": "89f15710",
   "metadata": {},
   "outputs": [
    {
     "name": "stdout",
     "output_type": "stream",
     "text": [
      "dict_items([('brand', 'Ford'), ('model', 'Mustang'), ('year', 1964)])\n"
     ]
    }
   ],
   "source": [
    "#pour avoir la liste cle valeur\n",
    "car = {\n",
    "\"brand\": \"Ford\",\n",
    "\"model\": \"Mustang\",\n",
    "\"year\": 1964\n",
    "}\n",
    "x = car.items()\n",
    "print(x)"
   ]
  },
  {
   "cell_type": "code",
   "execution_count": 16,
   "id": "bc2bf5fd",
   "metadata": {},
   "outputs": [
    {
     "name": "stdout",
     "output_type": "stream",
     "text": [
      "{'brand': 'Ford', 'model': 'Mustang', 'year': 2020}\n"
     ]
    }
   ],
   "source": [
    "#pour ajouter un element\n",
    "thisdict = {\n",
    "  \"brand\": \"Ford\",\n",
    "  \"model\": \"Mustang\",\n",
    "  \"year\": 1964\n",
    "}\n",
    "thisdict.update({\"year\": 2020})\n",
    "print(thisdict)"
   ]
  },
  {
   "cell_type": "code",
   "execution_count": 24,
   "id": "a16481d0",
   "metadata": {},
   "outputs": [
    {
     "name": "stdout",
     "output_type": "stream",
     "text": [
      "{'brand': 'Ford', 'model': 'Mustang', 'year': 1964, 'ville': 'paris'}\n"
     ]
    }
   ],
   "source": [
    "thisdict = {\n",
    "  \"brand\": \"Ford\",\n",
    "  \"model\": \"Mustang\",\n",
    "  \"year\": 1964\n",
    "}\n",
    "thisdict.update({\"ville\":\"paris\"})\n",
    "print(thisdict)"
   ]
  },
  {
   "cell_type": "code",
   "execution_count": 25,
   "id": "a3abd2f0",
   "metadata": {},
   "outputs": [
    {
     "name": "stdout",
     "output_type": "stream",
     "text": [
      "{'brand': 'Ford', 'model': 'Mustang', 'year': 1964, 'color': 'red'}\n"
     ]
    }
   ],
   "source": [
    "#on peu aussi utiliser la cle valeur pour ajouter\n",
    "thisdict = {\n",
    "  \"brand\": \"Ford\",\n",
    "  \"model\": \"Mustang\",\n",
    "  \"year\": 1964\n",
    "}\n",
    "thisdict[\"color\"] = \"red\"\n",
    "print(thisdict)"
   ]
  },
  {
   "cell_type": "code",
   "execution_count": 26,
   "id": "ee394ec7",
   "metadata": {},
   "outputs": [
    {
     "name": "stdout",
     "output_type": "stream",
     "text": [
      "{'model': 'Mustang', 'year': 1964}\n"
     ]
    }
   ],
   "source": [
    "#pour retirer un element\n",
    "thisdict = {\n",
    "  \"brand\": \"Ford\",\n",
    "  \"model\": \"Mustang\",\n",
    "  \"year\": 1964\n",
    "}\n",
    "thisdict.pop(\"brand\")\n",
    "print(thisdict)"
   ]
  },
  {
   "cell_type": "code",
   "execution_count": 27,
   "id": "04f3d37a",
   "metadata": {},
   "outputs": [
    {
     "name": "stdout",
     "output_type": "stream",
     "text": [
      "{'brand': 'Ford', 'model': 'Mustang'}\n"
     ]
    }
   ],
   "source": [
    "#pour enlever le dernier element inserer\n",
    "thisdict = {\n",
    "  \"brand\": \"Ford\",\n",
    "  \"model\": \"Mustang\",\n",
    "  \"year\": 1964\n",
    "}\n",
    "thisdict.popitem()\n",
    "print(thisdict)"
   ]
  },
  {
   "cell_type": "code",
   "execution_count": 28,
   "id": "1b266e62",
   "metadata": {},
   "outputs": [
    {
     "name": "stdout",
     "output_type": "stream",
     "text": [
      "{}\n"
     ]
    }
   ],
   "source": [
    "#la methode clear\n",
    "thisdict = {\n",
    "  \"brand\": \"Ford\",\n",
    "  \"model\": \"Mustang\",\n",
    "  \"year\": 1964\n",
    "}\n",
    "thisdict.clear()\n",
    "print(thisdict)"
   ]
  },
  {
   "cell_type": "code",
   "execution_count": 29,
   "id": "4bb76e0e",
   "metadata": {},
   "outputs": [
    {
     "name": "stdout",
     "output_type": "stream",
     "text": [
      "{'model': 'Mustang', 'year': 1964}\n"
     ]
    }
   ],
   "source": [
    "#del pour supprimer un element\n",
    "thisdict = {\n",
    "  \"brand\": \"Ford\",\n",
    "  \"model\": \"Mustang\",\n",
    "  \"year\": 1964\n",
    "}\n",
    "del thisdict[\"brand\"]\n",
    "print(thisdict)"
   ]
  },
  {
   "cell_type": "code",
   "execution_count": 30,
   "id": "a5c3d29d",
   "metadata": {},
   "outputs": [
    {
     "name": "stdout",
     "output_type": "stream",
     "text": [
      "Ford\n",
      "Mustang\n",
      "1964\n"
     ]
    }
   ],
   "source": [
    "#pour avoir uniquement les valeurs\n",
    "thisdict = {\n",
    "  \"brand\": \"Ford\",\n",
    "  \"model\": \"Mustang\",\n",
    "  \"year\": 1964\n",
    "}\n",
    "for x in thisdict.values():\n",
    "  print(x)"
   ]
  },
  {
   "cell_type": "code",
   "execution_count": 32,
   "id": "6d2a4af4",
   "metadata": {},
   "outputs": [
    {
     "name": "stdout",
     "output_type": "stream",
     "text": [
      "brand\n",
      "model\n",
      "year\n"
     ]
    }
   ],
   "source": [
    "#pour avoir uniquement les cles\n",
    "thisdict = {\n",
    "  \"brand\": \"Ford\",\n",
    "  \"model\": \"Mustang\",\n",
    "  \"year\": 1964\n",
    "}\n",
    "for x in thisdict.keys():\n",
    "  print(x)"
   ]
  },
  {
   "cell_type": "code",
   "execution_count": 34,
   "id": "f4f144e5",
   "metadata": {},
   "outputs": [
    {
     "name": "stdout",
     "output_type": "stream",
     "text": [
      "brand Ford\n",
      "model Mustang\n",
      "year 1964\n"
     ]
    }
   ],
   "source": [
    "#pour parcourir a la fois les cle et les valeurs\n",
    "thisdict = {\n",
    "  \"brand\": \"Ford\",\n",
    "  \"model\": \"Mustang\",\n",
    "  \"year\": 1964\n",
    "}\n",
    "for x, y in thisdict.items():\n",
    "  print(x, y)"
   ]
  },
  {
   "cell_type": "code",
   "execution_count": 36,
   "id": "683e1841",
   "metadata": {},
   "outputs": [
    {
     "name": "stdout",
     "output_type": "stream",
     "text": [
      "{'brand': 'Ford', 'model': 'Mustang', 'year': 1964}\n"
     ]
    }
   ],
   "source": [
    "#pour effectuer une copie\n",
    "thisdict = {\n",
    "  \"brand\": \"Ford\",\n",
    "  \"model\": \"Mustang\",\n",
    "  \"year\": 1964\n",
    "}\n",
    "mydict = thisdict.copy()\n",
    "print(mydict)"
   ]
  },
  {
   "cell_type": "code",
   "execution_count": 37,
   "id": "223acb65",
   "metadata": {},
   "outputs": [
    {
     "name": "stdout",
     "output_type": "stream",
     "text": [
      "{'brand': 'Ford', 'model': 'Mustang', 'year': 1964}\n"
     ]
    }
   ],
   "source": [
    "#une copie avec dict\n",
    "thisdict = {\n",
    "  \"brand\": \"Ford\",\n",
    "  \"model\": \"Mustang\",\n",
    "  \"year\": 1964\n",
    "}\n",
    "mydict = dict(thisdict)\n",
    "print(mydict)"
   ]
  },
  {
   "cell_type": "code",
   "execution_count": 38,
   "id": "9081898e",
   "metadata": {},
   "outputs": [
    {
     "name": "stdout",
     "output_type": "stream",
     "text": [
      "{'child1': {'name': 'Emil', 'year': 2004}, 'child2': {'name': 'Tobias', 'year': 2007}, 'child3': {'name': 'Linus', 'year': 2011}}\n"
     ]
    }
   ],
   "source": [
    "#les dictionnaire imbriquer\n",
    "myfamily = {\n",
    "  \"child1\" : {\n",
    "    \"name\" : \"Emil\",\n",
    "    \"year\" : 2004\n",
    "  },\n",
    "  \"child2\" : {\n",
    "    \"name\" : \"Tobias\",\n",
    "    \"year\" : 2007\n",
    "  },\n",
    "  \"child3\" : {\n",
    "    \"name\" : \"Linus\",\n",
    "    \"year\" : 2011\n",
    "  }\n",
    "}\n",
    "print(myfamily)"
   ]
  },
  {
   "cell_type": "code",
   "execution_count": 40,
   "id": "d732d6d7",
   "metadata": {},
   "outputs": [
    {
     "name": "stdout",
     "output_type": "stream",
     "text": [
      "{'child1': {'name': 'Emil', 'year': 2004}, 'child2': {'name': 'Tobias', 'year': 2007}, 'child3': {'name': 'Linus', 'year': 2011}}\n"
     ]
    }
   ],
   "source": [
    "#on peut creer trois dict et les regrouper comme suite\n",
    "child1 = {\n",
    "  \"name\" : \"Emil\",\n",
    "  \"year\" : 2004\n",
    "}\n",
    "child2 = {\n",
    "  \"name\" : \"Tobias\",\n",
    "  \"year\" : 2007\n",
    "}\n",
    "child3 = {\n",
    "  \"name\" : \"Linus\",\n",
    "  \"year\" : 2011\n",
    "}\n",
    "\n",
    "myfamily = {\n",
    "  \"child1\" : child1,\n",
    "  \"child2\" : child2,\n",
    "  \"child3\" : child3\n",
    "}\n",
    "print(myfamily)"
   ]
  },
  {
   "cell_type": "code",
   "execution_count": null,
   "id": "3e070964",
   "metadata": {},
   "outputs": [],
   "source": []
  }
 ],
 "metadata": {
  "kernelspec": {
   "display_name": "Python 3 (ipykernel)",
   "language": "python",
   "name": "python3"
  },
  "language_info": {
   "codemirror_mode": {
    "name": "ipython",
    "version": 3
   },
   "file_extension": ".py",
   "mimetype": "text/x-python",
   "name": "python",
   "nbconvert_exporter": "python",
   "pygments_lexer": "ipython3",
   "version": "3.11.5"
  }
 },
 "nbformat": 4,
 "nbformat_minor": 5
}
