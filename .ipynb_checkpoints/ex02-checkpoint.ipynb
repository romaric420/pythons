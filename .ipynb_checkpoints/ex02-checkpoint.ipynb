{
 "cells": [
  {
   "cell_type": "code",
   "execution_count": null,
   "id": "bfdc45b7",
   "metadata": {},
   "outputs": [],
   "source": [
    "n = int(input(\"entrer un nombre\"))\n",
    "b = 0\n",
    "i = 10\n",
    "while b < i:  \n",
    "    n += 1\n",
    "    b +=1\n",
    "    print(n)\n",
    "\n",
    "\n",
    "    "
   ]
  },
  {
   "cell_type": "code",
   "execution_count": null,
   "id": "9dc27ac5",
   "metadata": {},
   "outputs": [],
   "source": [
    "n = int(input(\"entrer un nombre\"))\n",
    "i=0\n",
    "reponse = 0\n",
    "for i in range(0,10):\n",
    "    i+=1\n",
    "    reponse=(n*i)\n",
    "    print(f\"{n} * {i} = \",reponse)\n",
    "    \n",
    "    \n",
    "    "
   ]
  },
  {
   "cell_type": "code",
   "execution_count": null,
   "id": "6945b101",
   "metadata": {},
   "outputs": [],
   "source": [
    "n = int(input(\"entrer un nombre\"))\n",
    "i = 0\n",
    "reponse = 0\n",
    "for i in range(n+1):\n",
    "    reponse = reponse + i\n",
    "    i+=1\n",
    "    print(reponse)\n",
    " "
   ]
  },
  {
   "cell_type": "code",
   "execution_count": null,
   "id": "e52888bd",
   "metadata": {},
   "outputs": [],
   "source": [
    "n = int(input(\"entrer un nombre\"))\n",
    "i = 1\n",
    "reponse = 1\n",
    "for i in range(1,6):\n",
    "    reponse = reponse * i\n",
    "    i+=1\n",
    "    print(reponse)"
   ]
  },
  {
   "cell_type": "code",
   "execution_count": null,
   "id": "adcb9020",
   "metadata": {},
   "outputs": [],
   "source": [
    "\n",
    "i = 0\n",
    "reponse = 1\n",
    "for i in range(5):\n",
    "    n = int(input(\"entrer un nombre\"))\n",
    "    i+=1\n",
    "    print(n)"
   ]
  },
  {
   "cell_type": "code",
   "execution_count": null,
   "id": "d8f606d5",
   "metadata": {},
   "outputs": [],
   "source": [
    "i = 0\n",
    "reponse = 1\n",
    "for i in range(5):\n",
    "    n = int(input(\"entrer un nombre\"))\n",
    "    i+=1\n",
    "    print(n)"
   ]
  },
  {
   "cell_type": "code",
   "execution_count": null,
   "id": "a38e0665",
   "metadata": {},
   "outputs": [],
   "source": []
  }
 ],
 "metadata": {
  "kernelspec": {
   "display_name": "Python 3 (ipykernel)",
   "language": "python",
   "name": "python3"
  },
  "language_info": {
   "codemirror_mode": {
    "name": "ipython",
    "version": 3
   },
   "file_extension": ".py",
   "mimetype": "text/x-python",
   "name": "python",
   "nbconvert_exporter": "python",
   "pygments_lexer": "ipython3",
   "version": "3.11.5"
  }
 },
 "nbformat": 4,
 "nbformat_minor": 5
}
